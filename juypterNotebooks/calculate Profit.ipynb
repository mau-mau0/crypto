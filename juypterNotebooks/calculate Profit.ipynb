{
 "cells": [
  {
   "cell_type": "code",
   "execution_count": 1,
   "id": "7a23aea0",
   "metadata": {},
   "outputs": [],
   "source": [
    "rates = {\n",
    "    \"PLN\": {\"PLN\": 1, \"EUR\": 0.23, \"USD\": 0.25, \"RUB\": 16.43, \"INR\": 18.21, \"MXN\": 4.94}, # [PLN->PLN, PLN->EUR, PLN->USD, ...]\n",
    "    \"EUR\": {\"PLN\": 4.34, \"EUR\": 1, \"USD\": 1.11, \"RUB\": 71.40, \"INR\": 79.09, \"MXN\": 21.44},# [EUR->PLN, EUR->EUR, EUR->USD, ...]\n",
    "    \"USD\": {\"PLN\": 3.93, \"EUR\": 0.90, \"USD\": 1, \"RUB\": 64.52, \"INR\": 71.48, \"MXN\": 19.37},\n",
    "    \"RUB\": {\"PLN\": 0.061, \"EUR\": 0.014, \"USD\": 0.015, \"RUB\": 1, \"INR\": 1.11, \"MXN\": 0.30},\n",
    "    \"INR\": {\"PLN\": 0.055, \"EUR\": 0.013, \"USD\": 0.014, \"RUB\": 0.90, \"INR\": 1, \"MXN\": 0.27},\n",
    "    \"MXN\": {\"PLN\": 0.20, \"EUR\": 0.047, \"USD\": 0.052, \"RUB\": 3.33, \"INR\": 3.69, \"MXN\": 1},\n",
    "}\n",
    "\n",
    "# rates = {\n",
    "#     \"USDT\": {\"USDT\": 1, \"BTC\": 0.000048101089, \"ETH\": 0.000882682649, \"ADA\": 2.096436058700, \"SOL\": 0.026546323334, \"MATIC\": 1.819505094614},\n",
    "#     \"BTC\": {\"USDT\": 20789.55, \"BTC\": 1, \"ETH\": 18.350575067746, \"ADA\": 43583.962264150900, \"SOL\": 551.886116272896, \"MATIC\": 37826.692139738000},\n",
    "#     \"ETH\": {\"USDT\": 1132.91, \"BTC\": 0.054494205021, \"ETH\": 1, \"ADA\": 2375.073375262060, \"SOL\": 30.074595168569, \"MATIC\": 2061.335516739450},\n",
    "#     \"ADA\": {\"USDT\": 0.477, \"BTC\": 0.000022944220, \"ETH\": 0.000421039624, \"ADA\": 1, \"SOL\": 0.012662596230, \"MATIC\": 0.867903930131},\n",
    "#     \"SOL\": {\"USDT\": 37.67, \"BTC\": 0.001811968032, \"ETH\": 0.033250655392, \"ADA\": 78.972746331237, \"SOL\": 1, \"MATIC\": 68.540756914119},\n",
    "#     \"MATIC\": {\"USDT\": 0.5496, \"BTC\": 0.000026436359, \"ETH\": 0.000485122384, \"ADA\": 1.152201257862, \"SOL\": 0.014589859304, \"MATIC\": 1},\n",
    "# }"
   ]
  },
  {
   "cell_type": "code",
   "execution_count": 2,
   "id": "8ee9127a",
   "metadata": {},
   "outputs": [],
   "source": [
    "opp = [\n",
    "    ['RUB', 'INR', 'PLN', 'RUB'],\n",
    "    ['USD', 'MXN', 'USD', 'RUB', 'INR', 'EUR', 'PLN'],\n",
    "    ['USD', 'MXN', 'USD', 'PLN']\n",
    "]\n",
    "\n",
    "# opp = [\n",
    "#     ['ADA', 'ETH', 'MATIC', 'ADA', 'BTC', 'USDT'], \n",
    "#     ['ADA', 'ETH', 'ADA'], \n",
    "#     ['ETH', 'MATIC', 'ADA', 'ETH', 'SOL'], \n",
    "#     ['ETH', 'MATIC', 'ADA', 'ETH', 'USDT'], \n",
    "#     ['ADA', 'ETH', 'MATIC', 'ADA', 'USDT'], \n",
    "#     ['ADA', 'ETH', 'ADA'], \n",
    "#     ['ETH', 'MATIC', 'ADA', 'ETH', 'SOL']\n",
    "# ]"
   ]
  },
  {
   "cell_type": "code",
   "execution_count": 3,
   "id": "a021a285",
   "metadata": {},
   "outputs": [],
   "source": [
    "def pairCurrencies(oppurtunities):\n",
    "    result = []\n",
    "    for oppurtunity in oppurtunities:\n",
    "\n",
    "        # printing original list\n",
    "        print (\"The original list is : \" + str(oppurtunity))\n",
    "\n",
    "        # using zip() + list slicing \n",
    "        # to perform pair iteration in list \n",
    "        res = list(zip(oppurtunity, oppurtunity[1:] + oppurtunity[:1]))\n",
    "        res.pop()\n",
    "        result.append(res)\n",
    "\n",
    "        # printing result\n",
    "        print (\"The pair list is : \" + str(res))\n",
    "    return result"
   ]
  },
  {
   "cell_type": "code",
   "execution_count": 4,
   "id": "db1a6408",
   "metadata": {},
   "outputs": [
    {
     "name": "stdout",
     "output_type": "stream",
     "text": [
      "The original list is : ['RUB', 'INR', 'PLN', 'RUB']\n",
      "The pair list is : [('RUB', 'INR'), ('INR', 'PLN'), ('PLN', 'RUB')]\n",
      "The original list is : ['USD', 'MXN', 'USD', 'RUB', 'INR', 'EUR', 'PLN']\n",
      "The pair list is : [('USD', 'MXN'), ('MXN', 'USD'), ('USD', 'RUB'), ('RUB', 'INR'), ('INR', 'EUR'), ('EUR', 'PLN')]\n",
      "The original list is : ['USD', 'MXN', 'USD', 'PLN']\n",
      "The pair list is : [('USD', 'MXN'), ('MXN', 'USD'), ('USD', 'PLN')]\n"
     ]
    }
   ],
   "source": [
    "first = pairCurrencies(opp)"
   ]
  },
  {
   "cell_type": "code",
   "execution_count": 10,
   "id": "91bd73b3",
   "metadata": {},
   "outputs": [],
   "source": [
    "def calculateProfit(cycle):\n",
    "    rate = 1\n",
    "    for pair in cycle:\n",
    "        rate = rate * rates[pair[0]][pair[1]]\n",
    "    print(\"Return: $\" + str(rate))\n",
    "    print(\"Percentage Return: \" + str(((rate - 1) / 1) * 100) + '%')"
   ]
  },
  {
   "cell_type": "code",
   "execution_count": 11,
   "id": "0128909c",
   "metadata": {},
   "outputs": [
    {
     "name": "stdout",
     "output_type": "stream",
     "text": [
      "Return: $1.0030515000000002\n",
      "Percentage Return: 0.3051500000000207%\n"
     ]
    }
   ],
   "source": [
    "cycle = first[0]\n",
    "calculateProfit(cycle)"
   ]
  },
  {
   "cell_type": "code",
   "execution_count": null,
   "id": "107855de",
   "metadata": {},
   "outputs": [],
   "source": []
  },
  {
   "cell_type": "code",
   "execution_count": 26,
   "id": "18836870",
   "metadata": {},
   "outputs": [],
   "source": []
  },
  {
   "cell_type": "code",
   "execution_count": null,
   "id": "89c023f6",
   "metadata": {},
   "outputs": [],
   "source": []
  }
 ],
 "metadata": {
  "kernelspec": {
   "display_name": "Python 3 (ipykernel)",
   "language": "python",
   "name": "python3"
  },
  "language_info": {
   "codemirror_mode": {
    "name": "ipython",
    "version": 3
   },
   "file_extension": ".py",
   "mimetype": "text/x-python",
   "name": "python",
   "nbconvert_exporter": "python",
   "pygments_lexer": "ipython3",
   "version": "3.9.13"
  }
 },
 "nbformat": 4,
 "nbformat_minor": 5
}
