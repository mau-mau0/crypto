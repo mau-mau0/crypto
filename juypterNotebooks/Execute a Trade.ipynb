{
 "cells": [
  {
   "cell_type": "code",
   "execution_count": 1,
   "id": "2090e1d0",
   "metadata": {},
   "outputs": [],
   "source": [
    "from requests import Session\n",
    "import pandas as pd\n",
    "import time\n",
    "import hashlib\n",
    "import hmac\n",
    "import base64\n",
    "import json"
   ]
  },
  {
   "cell_type": "code",
   "execution_count": 2,
   "id": "bf14cc17",
   "metadata": {},
   "outputs": [],
   "source": [
    "import sys\n",
    "sys.path.append('..')\n",
    "import classified"
   ]
  },
  {
   "cell_type": "code",
   "execution_count": 3,
   "id": "d654bbbb",
   "metadata": {},
   "outputs": [],
   "source": [
    "api_passphrase = classified.PASSPHRASE\n",
    "api_key = classified.KEY\n",
    "api_secret = classified.SECRET\n",
    "\n",
    "session = Session()"
   ]
  },
  {
   "cell_type": "code",
   "execution_count": 4,
   "id": "c3a5d2fe",
   "metadata": {},
   "outputs": [],
   "source": [
    "def auth(method, endpoint):\n",
    "    now = int(time.time() * 1000)\n",
    "    str_to_sign = str(now) + method.upper() + endpoint\n",
    "    signature = base64.b64encode(\n",
    "        hmac.new(api_secret.encode('utf-8'), str_to_sign.encode('utf-8'), hashlib.sha256).digest())\n",
    "    passphrase = base64.b64encode(hmac.new(api_secret.encode('utf-8'), api_passphrase.encode('utf-8'), hashlib.sha256).digest())\n",
    "    headers = {\n",
    "        \"KC-API-SIGN\": signature,\n",
    "        \"KC-API-TIMESTAMP\": str(now),\n",
    "        \"KC-API-KEY\": api_key,\n",
    "        \"KC-API-PASSPHRASE\": passphrase,\n",
    "        \"KC-API-KEY-VERSION\": \"2\"\n",
    "    }\n",
    "    return headers"
   ]
  },
  {
   "cell_type": "code",
   "execution_count": 65,
   "id": "83ab3b0b",
   "metadata": {},
   "outputs": [],
   "source": [
    "def getBalance(method, endpoint):\n",
    "    url = 'https://api.kucoin.com' + endpoint\n",
    "    auth(method, endpoint)\n",
    "    r = session.get(url, headers=headers)\n",
    "    data = r.json()['data']\n",
    "    df = pd.DataFrame.from_dict(data)\n",
    "    print(r.status_code)\n",
    "    print(df)"
   ]
  },
  {
   "cell_type": "code",
   "execution_count": 14,
   "id": "ac8dd091",
   "metadata": {},
   "outputs": [],
   "source": [
    "def placeOrder(method, endpoint, side, symbol, price, size):\n",
    "    url = 'https://api.kucoin.com/api/v1/orders'\n",
    "    auth(method, endpoint)\n",
    "    data = {\n",
    "            \"clientOid\": \"01\", \n",
    "            \"side\": side, \n",
    "            \"symbol\": symbol, \n",
    "            \"price\": price,\n",
    "            \"size\": size\n",
    "            }\n",
    "    data_json = json.dumps(data)\n",
    "    response = session.post(url, headers=headers, data=data_json)\n",
    "    print(response.json())"
   ]
  },
  {
   "cell_type": "code",
   "execution_count": 15,
   "id": "f59eb789",
   "metadata": {},
   "outputs": [
    {
     "name": "stdout",
     "output_type": "stream",
     "text": [
      "{'code': '400100', 'msg': 'validation.createOrder.clientOidDuplicated'}\n"
     ]
    }
   ],
   "source": [
    "placeOrder('post', '/api/v1/orders', \"buy\", \"ETH-USDT\", \"1195.15\", \"0.01\")"
   ]
  },
  {
   "cell_type": "code",
   "execution_count": null,
   "id": "dc93e2e7",
   "metadata": {},
   "outputs": [],
   "source": []
  }
 ],
 "metadata": {
  "kernelspec": {
   "display_name": "Python 3 (ipykernel)",
   "language": "python",
   "name": "python3"
  },
  "language_info": {
   "codemirror_mode": {
    "name": "ipython",
    "version": 3
   },
   "file_extension": ".py",
   "mimetype": "text/x-python",
   "name": "python",
   "nbconvert_exporter": "python",
   "pygments_lexer": "ipython3",
   "version": "3.9.13"
  }
 },
 "nbformat": 4,
 "nbformat_minor": 5
}
