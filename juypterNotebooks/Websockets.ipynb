{
 "cells": [
  {
   "cell_type": "code",
   "execution_count": 1,
   "id": "1e5c26cd",
   "metadata": {},
   "outputs": [],
   "source": [
    "import json\n",
    "import requests\n",
    "import websockets\n",
    "import asyncio"
   ]
  },
  {
   "cell_type": "markdown",
   "id": "464f08cb",
   "metadata": {},
   "source": [
    "# Apply public connect token"
   ]
  },
  {
   "cell_type": "code",
   "execution_count": 2,
   "id": "132014f2",
   "metadata": {},
   "outputs": [],
   "source": [
    "url = 'https://api.kucoin.com/api/v1/bullet-public'"
   ]
  },
  {
   "cell_type": "code",
   "execution_count": 3,
   "id": "64ddb497",
   "metadata": {},
   "outputs": [],
   "source": [
    "x = requests.post(url)"
   ]
  },
  {
   "cell_type": "code",
   "execution_count": 4,
   "id": "fac5ca56",
   "metadata": {},
   "outputs": [],
   "source": [
    "cjson = json.loads(x.text)"
   ]
  },
  {
   "cell_type": "code",
   "execution_count": 5,
   "id": "4a02ac65",
   "metadata": {},
   "outputs": [],
   "source": [
    "endpoint = cjson['data']['instanceServers'][0]['endpoint']\n",
    "token = cjson['data']['token']"
   ]
  },
  {
   "cell_type": "markdown",
   "id": "769b0331",
   "metadata": {},
   "source": [
    "# Subscription"
   ]
  },
  {
   "cell_type": "code",
   "execution_count": 6,
   "id": "1a94aafa",
   "metadata": {},
   "outputs": [],
   "source": [
    "sub = {\n",
    "    \"id\": 1545910660739,\n",
    "    \"type\": \"subscribe\",\n",
    "    \"topic\": \"/market/ticker:XMR-BTC\",\n",
    "    \"response\": True\n",
    "}"
   ]
  },
  {
   "cell_type": "markdown",
   "id": "4b05859d",
   "metadata": {},
   "source": [
    "# Single Websocket Connection"
   ]
  },
  {
   "cell_type": "code",
   "execution_count": 7,
   "id": "9e5b3c86",
   "metadata": {},
   "outputs": [],
   "source": [
    "async def connection():\n",
    "    async with websockets.connect(endpoint+\"?token=\"+token) as conn: # creates ws connection\n",
    "        await conn.send(json.dumps(sub)) # sends ws message\n",
    "        res = await conn.recv() # recieves ws message\n",
    "        counter = 0\n",
    "        while True and counter < 2:\n",
    "            res = await conn.recv()\n",
    "            print(res)\n",
    "            counter += 1\n",
    "        await conn.close()"
   ]
  },
  {
   "cell_type": "code",
   "execution_count": 8,
   "id": "44c70756",
   "metadata": {},
   "outputs": [],
   "source": [
    "multi = {\"id\": \"1Jpg30DEdU\", \"type\": \"openTunnel\", \"newTunnelId\": \"bt1\", \"response\": False}\n",
    "# command used to open tunnel"
   ]
  },
  {
   "cell_type": "code",
   "execution_count": 9,
   "id": "a3c397c5",
   "metadata": {},
   "outputs": [],
   "source": [
    "multi_spotEth = {\"id\": \"1JpoPamgFM\",\n",
    "             \"type\": \"subscribe\",\n",
    "             \"topic\": \"/market/ticker:ETH-USDT\",\n",
    "             \"tunnelId\": \"bt1\", \"response\": False}\n",
    "# subscriptions to websocket with tunnelID attached"
   ]
  },
  {
   "cell_type": "code",
   "execution_count": 10,
   "id": "b483db3f",
   "metadata": {},
   "outputs": [],
   "source": [
    "multi_futureEth = {\"id\": 1545910660740,                          \n",
    "                \"type\": \"subscribe\",\n",
    "                \"topic\": \"/contractMarket/tickerV2:ETHUSDTM\",\n",
    "                \"tunnelId\": \"bt1\", \"response\": False}\n",
    "# subscriptions to websocket with tunnelID attached"
   ]
  },
  {
   "cell_type": "markdown",
   "id": "caf3b399",
   "metadata": {},
   "source": [
    "<h3>Multiplex Websocket Connection</h3>"
   ]
  },
  {
   "cell_type": "code",
   "execution_count": 11,
   "id": "ab89fdee",
   "metadata": {},
   "outputs": [
    {
     "name": "stdout",
     "output_type": "stream",
     "text": [
      "-1734.8\n",
      "0.13000000000010914\n",
      "0.13000000000010914\n",
      "0.13000000000010914\n",
      "0.13000000000010914\n"
     ]
    }
   ],
   "source": [
    "async with websockets.connect(endpoint+\"?token=\"+token) as conn:\n",
    "    await conn.send(json.dumps(multi))  # initial open tunel command\n",
    "    res = await conn.recv()\n",
    "    \n",
    "    await conn.send(json.dumps(multi_spotEth)) # send tunnel subscription\n",
    "    res = await conn.recv()\n",
    "    await conn.send(json.dumps(multi_futureEth))  # send tunnel subscription\n",
    "    res = await conn.recv()\n",
    "    \n",
    "    counter = 0\n",
    "    spotPrice = 0\n",
    "    futurePrice = 0\n",
    "    while True and counter < 5:\n",
    "        res = await conn.recv()\n",
    "        vals = json.loads(res)\n",
    "\n",
    "        if (vals['topic']) == '/contractMarket/tickerV2:ETHUSDTM':\n",
    "#             print(f\"Future Price is: {vals['data']['bestAskPrice']}\")\n",
    "            futurePrice = float(vals['data']['bestAskPrice'])\n",
    "\n",
    "        elif (vals['topic']) == '/market/ticker:ETH-USDT':\n",
    "#             print(f\"Spot Price is: {vals['data']['bestAsk']}\")\n",
    "            spotPrice = float(vals['data']['bestAsk'])\n",
    "    \n",
    "        print(spotPrice - futurePrice)\n",
    "        \n",
    "        if spotPrice - futurePrice > 0.8 and futurePrice != 0 and spotPrice != 0:\n",
    "            print('Long Future and Short Spot')\n",
    "            \n",
    "        elif futurePrice - spotPrice > 0.8 and futurePrice != 0 and spotPrice != 0:\n",
    "            print('Long Spot and Short Future')\n",
    "            \n",
    "        counter += 1\n",
    "    eth_tunnel = {\"id\": \"1JpoPamgFM\", \"type\": \"closeTunnel\", \"tunnelId\": \"bt1\", \"response\": False}            \n",
    "    btc_tunnel = {\"id\": \"1JpoPamgFN\", \"type\": \"closeTunnel\", \"tunnelId\": \"bt1\", \"response\": False}\n",
    "    await conn.send(json.dumps(eth_tunnel))\n",
    "    await conn.send(json.dumps(btc_tunnel))\n",
    "    await conn.close()"
   ]
  },
  {
   "cell_type": "markdown",
   "id": "26e653d4",
   "metadata": {},
   "source": [
    "# Trying to Long the underpriced and short the overpriced"
   ]
  }
 ],
 "metadata": {
  "kernelspec": {
   "display_name": "Python 3 (ipykernel)",
   "language": "python",
   "name": "python3"
  },
  "language_info": {
   "codemirror_mode": {
    "name": "ipython",
    "version": 3
   },
   "file_extension": ".py",
   "mimetype": "text/x-python",
   "name": "python",
   "nbconvert_exporter": "python",
   "pygments_lexer": "ipython3",
   "version": "3.9.13"
  }
 },
 "nbformat": 4,
 "nbformat_minor": 5
}
