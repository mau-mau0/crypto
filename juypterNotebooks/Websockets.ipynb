{
 "cells": [
  {
   "cell_type": "code",
   "execution_count": 2,
   "id": "1e5c26cd",
   "metadata": {},
   "outputs": [],
   "source": [
    "import json\n",
    "import requests\n",
    "import websockets"
   ]
  },
  {
   "cell_type": "markdown",
   "id": "464f08cb",
   "metadata": {},
   "source": [
    "# Apply public connect token"
   ]
  },
  {
   "cell_type": "code",
   "execution_count": 3,
   "id": "132014f2",
   "metadata": {},
   "outputs": [],
   "source": [
    "url = 'https://api.kucoin.com/api/v1/bullet-public'"
   ]
  },
  {
   "cell_type": "code",
   "execution_count": 4,
   "id": "64ddb497",
   "metadata": {},
   "outputs": [],
   "source": [
    "x = requests.post(url)"
   ]
  },
  {
   "cell_type": "code",
   "execution_count": 5,
   "id": "fac5ca56",
   "metadata": {},
   "outputs": [],
   "source": [
    "cjson = json.loads(x.text)"
   ]
  },
  {
   "cell_type": "code",
   "execution_count": 6,
   "id": "4a02ac65",
   "metadata": {},
   "outputs": [],
   "source": [
    "endpoint = cjson['data']['instanceServers'][0]['endpoint']\n",
    "token = cjson['data']['token']"
   ]
  },
  {
   "cell_type": "markdown",
   "id": "769b0331",
   "metadata": {},
   "source": [
    "# Subscription"
   ]
  },
  {
   "cell_type": "code",
   "execution_count": 7,
   "id": "1a94aafa",
   "metadata": {},
   "outputs": [],
   "source": [
    "sub = {\n",
    "    \"id\": 1545910660739,\n",
    "    \"type\": \"subscribe\",\n",
    "    \"topic\": \"/market/ticker:BTC-USDT\",\n",
    "    \"response\": True\n",
    "}"
   ]
  },
  {
   "cell_type": "markdown",
   "id": "4b05859d",
   "metadata": {},
   "source": [
    "# Single Websocket Connection"
   ]
  },
  {
   "cell_type": "code",
   "execution_count": 7,
   "id": "9e5b3c86",
   "metadata": {},
   "outputs": [
    {
     "name": "stdout",
     "output_type": "stream",
     "text": [
      "{\"id\":\"1545910660739\",\"type\":\"ack\"}\n",
      "{\"type\":\"message\",\"topic\":\"/market/ticker:BTC-USDT\",\"subject\":\"trade.ticker\",\"data\":{\"bestAsk\":\"22467.8\",\"bestAskSize\":\"0.04714862\",\"bestBid\":\"22467.7\",\"bestBidSize\":\"0.0006\",\"price\":\"22468.8\",\"sequence\":\"1631213019370\",\"size\":\"0.000867\",\"time\":1655230739869}}\n",
      "{\"type\":\"message\",\"topic\":\"/market/ticker:BTC-USDT\",\"subject\":\"trade.ticker\",\"data\":{\"bestAsk\":\"22463.3\",\"bestAskSize\":\"0.02213078\",\"bestBid\":\"22463.2\",\"bestBidSize\":\"0.50044\",\"price\":\"22466\",\"sequence\":\"1631213019815\",\"size\":\"0.00234606\",\"time\":1655230739970}}\n",
      "{\"type\":\"message\",\"topic\":\"/market/ticker:BTC-USDT\",\"subject\":\"trade.ticker\",\"data\":{\"bestAsk\":\"22463.1\",\"bestAskSize\":\"0.02357431\",\"bestBid\":\"22463\",\"bestBidSize\":\"0.0032424\",\"price\":\"22466\",\"sequence\":\"1631213020036\",\"size\":\"0.00234606\",\"time\":1655230740070}}\n",
      "{\"type\":\"message\",\"topic\":\"/market/ticker:BTC-USDT\",\"subject\":\"trade.ticker\",\"data\":{\"bestAsk\":\"22463.1\",\"bestAskSize\":\"0.4757051\",\"bestBid\":\"22463\",\"bestBidSize\":\"0.0032424\",\"price\":\"22466\",\"sequence\":\"1631213020158\",\"size\":\"0.00234606\",\"time\":1655230740169}}\n",
      "{\"type\":\"message\",\"topic\":\"/market/ticker:BTC-USDT\",\"subject\":\"trade.ticker\",\"data\":{\"bestAsk\":\"22456.9\",\"bestAskSize\":\"0.01734213\",\"bestBid\":\"22456.8\",\"bestBidSize\":\"0.86095635\",\"price\":\"22460.8\",\"sequence\":\"1631213020379\",\"size\":\"0.0019827\",\"time\":1655230740269}}\n",
      "{\"type\":\"message\",\"topic\":\"/market/ticker:BTC-USDT\",\"subject\":\"trade.ticker\",\"data\":{\"bestAsk\":\"22456.9\",\"bestAskSize\":\"0.01212605\",\"bestBid\":\"22456.8\",\"bestBidSize\":\"0.91108699\",\"price\":\"22456.9\",\"sequence\":\"1631213020510\",\"size\":\"0.01121608\",\"time\":1655230740369}}\n",
      "{\"type\":\"message\",\"topic\":\"/market/ticker:BTC-USDT\",\"subject\":\"trade.ticker\",\"data\":{\"bestAsk\":\"22456.9\",\"bestAskSize\":\"0.01212605\",\"bestBid\":\"22456.8\",\"bestBidSize\":\"1.32690535\",\"price\":\"22456.9\",\"sequence\":\"1631213020642\",\"size\":\"0.01121608\",\"time\":1655230740468}}\n",
      "{\"type\":\"message\",\"topic\":\"/market/ticker:BTC-USDT\",\"subject\":\"trade.ticker\",\"data\":{\"bestAsk\":\"22456.9\",\"bestAskSize\":\"0.01212605\",\"bestBid\":\"22456.8\",\"bestBidSize\":\"1.32690535\",\"price\":\"22456.9\",\"sequence\":\"1631213020793\",\"size\":\"0.01121608\",\"time\":1655230740569}}\n",
      "{\"type\":\"message\",\"topic\":\"/market/ticker:BTC-USDT\",\"subject\":\"trade.ticker\",\"data\":{\"bestAsk\":\"22456.9\",\"bestAskSize\":\"0.01212605\",\"bestBid\":\"22456.8\",\"bestBidSize\":\"1.32690535\",\"price\":\"22456.9\",\"sequence\":\"1631213020909\",\"size\":\"0.01121608\",\"time\":1655230740669}}\n",
      "{\"type\":\"message\",\"topic\":\"/market/ticker:BTC-USDT\",\"subject\":\"trade.ticker\",\"data\":{\"bestAsk\":\"22456.9\",\"bestAskSize\":\"0.01376106\",\"bestBid\":\"22456.8\",\"bestBidSize\":\"1.02390035\",\"price\":\"22456.9\",\"sequence\":\"1631213021012\",\"size\":\"0.01121608\",\"time\":1655230740770}}\n",
      "{\"type\":\"message\",\"topic\":\"/market/ticker:BTC-USDT\",\"subject\":\"trade.ticker\",\"data\":{\"bestAsk\":\"22456.9\",\"bestAskSize\":\"0.01376106\",\"bestBid\":\"22456.8\",\"bestBidSize\":\"1.02390035\",\"price\":\"22456.9\",\"sequence\":\"1631213021178\",\"size\":\"0.01121608\",\"time\":1655230740869}}\n",
      "{\"type\":\"message\",\"topic\":\"/market/ticker:BTC-USDT\",\"subject\":\"trade.ticker\",\"data\":{\"bestAsk\":\"22456.9\",\"bestAskSize\":\"0.01593388\",\"bestBid\":\"22456.8\",\"bestBidSize\":\"1.23902917\",\"price\":\"22456.9\",\"sequence\":\"1631213021331\",\"size\":\"0.01121608\",\"time\":1655230740968}}\n",
      "{\"type\":\"message\",\"topic\":\"/market/ticker:BTC-USDT\",\"subject\":\"trade.ticker\",\"data\":{\"bestAsk\":\"22456.9\",\"bestAskSize\":\"0.01593388\",\"bestBid\":\"22456.8\",\"bestBidSize\":\"1.12736641\",\"price\":\"22456.9\",\"sequence\":\"1631213021400\",\"size\":\"0.01121608\",\"time\":1655230741069}}\n",
      "{\"type\":\"message\",\"topic\":\"/market/ticker:BTC-USDT\",\"subject\":\"trade.ticker\",\"data\":{\"bestAsk\":\"22456.9\",\"bestAskSize\":\"0.10173388\",\"bestBid\":\"22456.8\",\"bestBidSize\":\"0.74436641\",\"price\":\"22456.9\",\"sequence\":\"1631213021486\",\"size\":\"0.01121608\",\"time\":1655230741169}}\n",
      "{\"type\":\"message\",\"topic\":\"/market/ticker:BTC-USDT\",\"subject\":\"trade.ticker\",\"data\":{\"bestAsk\":\"22456.9\",\"bestAskSize\":\"0.10173388\",\"bestBid\":\"22456.8\",\"bestBidSize\":\"0.74436641\",\"price\":\"22456.9\",\"sequence\":\"1631213021548\",\"size\":\"0.01121608\",\"time\":1655230741269}}\n",
      "{\"type\":\"message\",\"topic\":\"/market/ticker:BTC-USDT\",\"subject\":\"trade.ticker\",\"data\":{\"bestAsk\":\"22456.9\",\"bestAskSize\":\"0.10173388\",\"bestBid\":\"22456.8\",\"bestBidSize\":\"0.74436641\",\"price\":\"22456.9\",\"sequence\":\"1631213021621\",\"size\":\"0.01121608\",\"time\":1655230741369}}\n",
      "{\"type\":\"message\",\"topic\":\"/market/ticker:BTC-USDT\",\"subject\":\"trade.ticker\",\"data\":{\"bestAsk\":\"22456.9\",\"bestAskSize\":\"0.10173388\",\"bestBid\":\"22456.8\",\"bestBidSize\":\"0.72736641\",\"price\":\"22456.9\",\"sequence\":\"1631213021701\",\"size\":\"0.01121608\",\"time\":1655230741468}}\n",
      "{\"type\":\"message\",\"topic\":\"/market/ticker:BTC-USDT\",\"subject\":\"trade.ticker\",\"data\":{\"bestAsk\":\"22456.9\",\"bestAskSize\":\"0.10173388\",\"bestBid\":\"22456.8\",\"bestBidSize\":\"0.72736641\",\"price\":\"22456.9\",\"sequence\":\"1631213021777\",\"size\":\"0.01121608\",\"time\":1655230741569}}\n",
      "{\"type\":\"message\",\"topic\":\"/market/ticker:BTC-USDT\",\"subject\":\"trade.ticker\",\"data\":{\"bestAsk\":\"22456.9\",\"bestAskSize\":\"0.10009887\",\"bestBid\":\"22456.8\",\"bestBidSize\":\"0.72817841\",\"price\":\"22456.9\",\"sequence\":\"1631213021854\",\"size\":\"0.01121608\",\"time\":1655230741668}}\n",
      "{\"type\":\"message\",\"topic\":\"/market/ticker:BTC-USDT\",\"subject\":\"trade.ticker\",\"data\":{\"bestAsk\":\"22456.9\",\"bestAskSize\":\"0.10009887\",\"bestBid\":\"22456.8\",\"bestBidSize\":\"0.72817841\",\"price\":\"22456.9\",\"sequence\":\"1631213021939\",\"size\":\"0.01121608\",\"time\":1655230741769}}\n",
      "{\"type\":\"message\",\"topic\":\"/market/ticker:BTC-USDT\",\"subject\":\"trade.ticker\",\"data\":{\"bestAsk\":\"22456.9\",\"bestAskSize\":\"0.10009887\",\"bestBid\":\"22456.8\",\"bestBidSize\":\"1.12817841\",\"price\":\"22456.9\",\"sequence\":\"1631213022026\",\"size\":\"0.01121608\",\"time\":1655230741869}}\n",
      "{\"type\":\"message\",\"topic\":\"/market/ticker:BTC-USDT\",\"subject\":\"trade.ticker\",\"data\":{\"bestAsk\":\"22456.9\",\"bestAskSize\":\"0.0999806\",\"bestBid\":\"22456.8\",\"bestBidSize\":\"1.02402841\",\"price\":\"22456.9\",\"sequence\":\"1631213022185\",\"size\":\"0.00011827\",\"time\":1655230741968}}\n",
      "{\"type\":\"message\",\"topic\":\"/market/ticker:BTC-USDT\",\"subject\":\"trade.ticker\",\"data\":{\"bestAsk\":\"22456.9\",\"bestAskSize\":\"0.07677633\",\"bestBid\":\"22456.8\",\"bestBidSize\":\"0.62402841\",\"price\":\"22456.9\",\"sequence\":\"1631213022275\",\"size\":\"0.00906367\",\"time\":1655230742069}}\n",
      "{\"type\":\"message\",\"topic\":\"/market/ticker:BTC-USDT\",\"subject\":\"trade.ticker\",\"data\":{\"bestAsk\":\"22456.9\",\"bestAskSize\":\"0.07677633\",\"bestBid\":\"22456.8\",\"bestBidSize\":\"0.62402841\",\"price\":\"22456.9\",\"sequence\":\"1631213022340\",\"size\":\"0.00906367\",\"time\":1655230742168}}\n",
      "{\"type\":\"message\",\"topic\":\"/market/ticker:BTC-USDT\",\"subject\":\"trade.ticker\",\"data\":{\"bestAsk\":\"22456.9\",\"bestAskSize\":\"0.07677633\",\"bestBid\":\"22456.8\",\"bestBidSize\":\"0.62402841\",\"price\":\"22456.9\",\"sequence\":\"1631213022418\",\"size\":\"0.00906367\",\"time\":1655230742270}}\n",
      "{\"type\":\"message\",\"topic\":\"/market/ticker:BTC-USDT\",\"subject\":\"trade.ticker\",\"data\":{\"bestAsk\":\"22456.9\",\"bestAskSize\":\"0.07677633\",\"bestBid\":\"22456.8\",\"bestBidSize\":\"0.62402841\",\"price\":\"22456.9\",\"sequence\":\"1631213022486\",\"size\":\"0.00906367\",\"time\":1655230742369}}\n",
      "{\"type\":\"message\",\"topic\":\"/market/ticker:BTC-USDT\",\"subject\":\"trade.ticker\",\"data\":{\"bestAsk\":\"22456.9\",\"bestAskSize\":\"0.06526812\",\"bestBid\":\"22456.8\",\"bestBidSize\":\"1.02402841\",\"price\":\"22456.9\",\"sequence\":\"1631213022572\",\"size\":\"0.01150821\",\"time\":1655230742468}}\n",
      "{\"type\":\"message\",\"topic\":\"/market/ticker:BTC-USDT\",\"subject\":\"trade.ticker\",\"data\":{\"bestAsk\":\"22456.9\",\"bestAskSize\":\"0.06526812\",\"bestBid\":\"22456.8\",\"bestBidSize\":\"0.62321641\",\"price\":\"22456.9\",\"sequence\":\"1631213022640\",\"size\":\"0.01150821\",\"time\":1655230742569}}\n",
      "{\"type\":\"message\",\"topic\":\"/market/ticker:BTC-USDT\",\"subject\":\"trade.ticker\",\"data\":{\"bestAsk\":\"22456.9\",\"bestAskSize\":\"0.06671113\",\"bestBid\":\"22456.8\",\"bestBidSize\":\"0.62321641\",\"price\":\"22456.9\",\"sequence\":\"1631213022703\",\"size\":\"0.01150821\",\"time\":1655230742668}}\n",
      "{\"type\":\"message\",\"topic\":\"/market/ticker:BTC-USDT\",\"subject\":\"trade.ticker\",\"data\":{\"bestAsk\":\"22456.9\",\"bestAskSize\":\"0.06671113\",\"bestBid\":\"22456.8\",\"bestBidSize\":\"0.62321641\",\"price\":\"22456.9\",\"sequence\":\"1631213022778\",\"size\":\"0.01150821\",\"time\":1655230742770}}\n",
      "{\"type\":\"message\",\"topic\":\"/market/ticker:BTC-USDT\",\"subject\":\"trade.ticker\",\"data\":{\"bestAsk\":\"22456.9\",\"bestAskSize\":\"0.06671113\",\"bestBid\":\"22456.8\",\"bestBidSize\":\"0.62321641\",\"price\":\"22456.9\",\"sequence\":\"1631213022830\",\"size\":\"0.01150821\",\"time\":1655230742869}}\n"
     ]
    },
    {
     "name": "stdout",
     "output_type": "stream",
     "text": [
      "{\"type\":\"message\",\"topic\":\"/market/ticker:BTC-USDT\",\"subject\":\"trade.ticker\",\"data\":{\"bestAsk\":\"22456.9\",\"bestAskSize\":\"0.06671113\",\"bestBid\":\"22456.8\",\"bestBidSize\":\"0.62321641\",\"price\":\"22456.9\",\"sequence\":\"1631213022973\",\"size\":\"0.01150821\",\"time\":1655230742970}}\n",
      "{\"type\":\"message\",\"topic\":\"/market/ticker:BTC-USDT\",\"subject\":\"trade.ticker\",\"data\":{\"bestAsk\":\"22456.9\",\"bestAskSize\":\"0.06671113\",\"bestBid\":\"22456.8\",\"bestBidSize\":\"0.62321641\",\"price\":\"22456.9\",\"sequence\":\"1631213023021\",\"size\":\"0.01150821\",\"time\":1655230743069}}\n",
      "{\"type\":\"message\",\"topic\":\"/market/ticker:BTC-USDT\",\"subject\":\"trade.ticker\",\"data\":{\"bestAsk\":\"22456.9\",\"bestAskSize\":\"0.06671113\",\"bestBid\":\"22456.8\",\"bestBidSize\":\"0.62321641\",\"price\":\"22456.9\",\"sequence\":\"1631213023095\",\"size\":\"0.01150821\",\"time\":1655230743168}}\n",
      "{\"type\":\"message\",\"topic\":\"/market/ticker:BTC-USDT\",\"subject\":\"trade.ticker\",\"data\":{\"bestAsk\":\"22456.9\",\"bestAskSize\":\"0.07812945\",\"bestBid\":\"22456.8\",\"bestBidSize\":\"0.41088965\",\"price\":\"22456.9\",\"sequence\":\"1631213023166\",\"size\":\"0.01150821\",\"time\":1655230743269}}\n",
      "{\"type\":\"message\",\"topic\":\"/market/ticker:BTC-USDT\",\"subject\":\"trade.ticker\",\"data\":{\"bestAsk\":\"22456.9\",\"bestAskSize\":\"0.07812945\",\"bestBid\":\"22456.8\",\"bestBidSize\":\"0.11488438\",\"price\":\"22456.9\",\"sequence\":\"1631213023264\",\"size\":\"0.01150821\",\"time\":1655230743369}}\n",
      "{\"type\":\"message\",\"topic\":\"/market/ticker:BTC-USDT\",\"subject\":\"trade.ticker\",\"data\":{\"bestAsk\":\"22456.9\",\"bestAskSize\":\"1.00192152\",\"bestBid\":\"22456.8\",\"bestBidSize\":\"0.10346606\",\"price\":\"22456.9\",\"sequence\":\"1631213023403\",\"size\":\"0.01150821\",\"time\":1655230743469}}\n",
      "{\"type\":\"message\",\"topic\":\"/market/ticker:BTC-USDT\",\"subject\":\"trade.ticker\",\"data\":{\"bestAsk\":\"22456.9\",\"bestAskSize\":\"0.88258152\",\"bestBid\":\"22456.8\",\"bestBidSize\":\"0.05346606\",\"price\":\"22456.8\",\"sequence\":\"1631213023536\",\"size\":\"0.05\",\"time\":1655230743569}}\n",
      "{\"type\":\"message\",\"topic\":\"/market/ticker:BTC-USDT\",\"subject\":\"trade.ticker\",\"data\":{\"bestAsk\":\"22456.9\",\"bestAskSize\":\"0.88258152\",\"bestBid\":\"22456.8\",\"bestBidSize\":\"0.05346606\",\"price\":\"22456.8\",\"sequence\":\"1631213023634\",\"size\":\"0.05\",\"time\":1655230743668}}\n",
      "{\"type\":\"message\",\"topic\":\"/market/ticker:BTC-USDT\",\"subject\":\"trade.ticker\",\"data\":{\"bestAsk\":\"22456.9\",\"bestAskSize\":\"0.88258152\",\"bestBid\":\"22456.8\",\"bestBidSize\":\"0.05346606\",\"price\":\"22456.8\",\"sequence\":\"1631213023754\",\"size\":\"0.05\",\"time\":1655230743769}}\n",
      "{\"type\":\"message\",\"topic\":\"/market/ticker:BTC-USDT\",\"subject\":\"trade.ticker\",\"data\":{\"bestAsk\":\"22456.9\",\"bestAskSize\":\"0.88258152\",\"bestBid\":\"22456.8\",\"bestBidSize\":\"0.05346606\",\"price\":\"22456.8\",\"sequence\":\"1631213023871\",\"size\":\"0.05\",\"time\":1655230743869}}\n",
      "{\"type\":\"message\",\"topic\":\"/market/ticker:BTC-USDT\",\"subject\":\"trade.ticker\",\"data\":{\"bestAsk\":\"22456.7\",\"bestAskSize\":\"0.10067787\",\"bestBid\":\"22456.6\",\"bestBidSize\":\"0.01424295\",\"price\":\"22456.8\",\"sequence\":\"1631213024020\",\"size\":\"0.00346\",\"time\":1655230743969}}\n",
      "{\"type\":\"message\",\"topic\":\"/market/ticker:BTC-USDT\",\"subject\":\"trade.ticker\",\"data\":{\"bestAsk\":\"22453.3\",\"bestAskSize\":\"0.27672611\",\"bestBid\":\"22453.2\",\"bestBidSize\":\"0.08484668\",\"price\":\"22454.5\",\"sequence\":\"1631213024289\",\"size\":\"0.03163393\",\"time\":1655230744070}}\n",
      "{\"type\":\"message\",\"topic\":\"/market/ticker:BTC-USDT\",\"subject\":\"trade.ticker\",\"data\":{\"bestAsk\":\"22452.9\",\"bestAskSize\":\"0.0475525\",\"bestBid\":\"22452.8\",\"bestBidSize\":\"0.07206082\",\"price\":\"22453.2\",\"sequence\":\"1631213024462\",\"size\":\"0.07342836\",\"time\":1655230744170}}\n",
      "{\"type\":\"message\",\"topic\":\"/market/ticker:BTC-USDT\",\"subject\":\"trade.ticker\",\"data\":{\"bestAsk\":\"22451.6\",\"bestAskSize\":\"0.48525963\",\"bestBid\":\"22451.5\",\"bestBidSize\":\"0.21159467\",\"price\":\"22453.2\",\"sequence\":\"1631213024597\",\"size\":\"0.07342836\",\"time\":1655230744270}}\n",
      "{\"type\":\"message\",\"topic\":\"/market/ticker:BTC-USDT\",\"subject\":\"trade.ticker\",\"data\":{\"bestAsk\":\"22451.6\",\"bestAskSize\":\"0.46041951\",\"bestBid\":\"22451.5\",\"bestBidSize\":\"0.23150087\",\"price\":\"22453.2\",\"sequence\":\"1631213024734\",\"size\":\"0.07342836\",\"time\":1655230744370}}\n",
      "{\"type\":\"message\",\"topic\":\"/market/ticker:BTC-USDT\",\"subject\":\"trade.ticker\",\"data\":{\"bestAsk\":\"22451.6\",\"bestAskSize\":\"0.48900443\",\"bestBid\":\"22451.5\",\"bestBidSize\":\"0.23150087\",\"price\":\"22453.2\",\"sequence\":\"1631213024834\",\"size\":\"0.07342836\",\"time\":1655230744469}}\n",
      "{\"type\":\"message\",\"topic\":\"/market/ticker:BTC-USDT\",\"subject\":\"trade.ticker\",\"data\":{\"bestAsk\":\"22451.6\",\"bestAskSize\":\"0.48900443\",\"bestBid\":\"22451.5\",\"bestBidSize\":\"0.23150087\",\"price\":\"22453.2\",\"sequence\":\"1631213024896\",\"size\":\"0.07342836\",\"time\":1655230744569}}\n",
      "{\"type\":\"message\",\"topic\":\"/market/ticker:BTC-USDT\",\"subject\":\"trade.ticker\",\"data\":{\"bestAsk\":\"22451.6\",\"bestAskSize\":\"0.48900443\",\"bestBid\":\"22451.5\",\"bestBidSize\":\"0.23150087\",\"price\":\"22453.2\",\"sequence\":\"1631213024980\",\"size\":\"0.07342836\",\"time\":1655230744669}}\n",
      "{\"type\":\"message\",\"topic\":\"/market/ticker:BTC-USDT\",\"subject\":\"trade.ticker\",\"data\":{\"bestAsk\":\"22451.6\",\"bestAskSize\":\"0.49065844\",\"bestBid\":\"22451.5\",\"bestBidSize\":\"0.23150087\",\"price\":\"22453.2\",\"sequence\":\"1631213025065\",\"size\":\"0.07342836\",\"time\":1655230744769}}\n",
      "{\"type\":\"message\",\"topic\":\"/market/ticker:BTC-USDT\",\"subject\":\"trade.ticker\",\"data\":{\"bestAsk\":\"22451.6\",\"bestAskSize\":\"0.49065844\",\"bestBid\":\"22451.5\",\"bestBidSize\":\"0.23150087\",\"price\":\"22453.2\",\"sequence\":\"1631213025154\",\"size\":\"0.07342836\",\"time\":1655230744869}}\n",
      "{\"type\":\"message\",\"topic\":\"/market/ticker:BTC-USDT\",\"subject\":\"trade.ticker\",\"data\":{\"bestAsk\":\"22451.6\",\"bestAskSize\":\"0.0974646\",\"bestBid\":\"22451.5\",\"bestBidSize\":\"0.23150087\",\"price\":\"22453.2\",\"sequence\":\"1631213025310\",\"size\":\"0.07342836\",\"time\":1655230744969}}\n",
      "{\"type\":\"message\",\"topic\":\"/market/ticker:BTC-USDT\",\"subject\":\"trade.ticker\",\"data\":{\"bestAsk\":\"22451.6\",\"bestAskSize\":\"0.09581059\",\"bestBid\":\"22451.5\",\"bestBidSize\":\"0.28630575\",\"price\":\"22453.2\",\"sequence\":\"1631213025394\",\"size\":\"0.07342836\",\"time\":1655230745070}}\n",
      "{\"type\":\"message\",\"topic\":\"/market/ticker:BTC-USDT\",\"subject\":\"trade.ticker\",\"data\":{\"bestAsk\":\"22451.6\",\"bestAskSize\":\"0.01380616\",\"bestBid\":\"22451.5\",\"bestBidSize\":\"0.79127375\",\"price\":\"22451.6\",\"sequence\":\"1631213025530\",\"size\":\"0.00103377\",\"time\":1655230745169}}\n",
      "{\"type\":\"message\",\"topic\":\"/market/ticker:BTC-USDT\",\"subject\":\"trade.ticker\",\"data\":{\"bestAsk\":\"22451.6\",\"bestAskSize\":\"0.01380616\",\"bestBid\":\"22451.5\",\"bestBidSize\":\"0.79127375\",\"price\":\"22451.6\",\"sequence\":\"1631213025649\",\"size\":\"0.00103377\",\"time\":1655230745269}}\n",
      "{\"type\":\"message\",\"topic\":\"/market/ticker:BTC-USDT\",\"subject\":\"trade.ticker\",\"data\":{\"bestAsk\":\"22451.6\",\"bestAskSize\":\"0.01380616\",\"bestBid\":\"22451.5\",\"bestBidSize\":\"0.79127375\",\"price\":\"22451.6\",\"sequence\":\"1631213025761\",\"size\":\"0.00103377\",\"time\":1655230745369}}\n",
      "{\"type\":\"message\",\"topic\":\"/market/ticker:BTC-USDT\",\"subject\":\"trade.ticker\",\"data\":{\"bestAsk\":\"22451.6\",\"bestAskSize\":\"0.01380616\",\"bestBid\":\"22451.5\",\"bestBidSize\":\"0.79127375\",\"price\":\"22451.6\",\"sequence\":\"1631213025859\",\"size\":\"0.00103377\",\"time\":1655230745468}}\n",
      "{\"type\":\"message\",\"topic\":\"/market/ticker:BTC-USDT\",\"subject\":\"trade.ticker\",\"data\":{\"bestAsk\":\"22451.6\",\"bestAskSize\":\"0.01380616\",\"bestBid\":\"22451.5\",\"bestBidSize\":\"0.83127375\",\"price\":\"22451.6\",\"sequence\":\"1631213025933\",\"size\":\"0.00103377\",\"time\":1655230745569}}\n",
      "{\"type\":\"message\",\"topic\":\"/market/ticker:BTC-USDT\",\"subject\":\"trade.ticker\",\"data\":{\"bestAsk\":\"22451.6\",\"bestAskSize\":\"0.01380616\",\"bestBid\":\"22451.5\",\"bestBidSize\":\"1.31127375\",\"price\":\"22451.6\",\"sequence\":\"1631213026018\",\"size\":\"0.00103377\",\"time\":1655230745670}}\n",
      "{\"type\":\"message\",\"topic\":\"/market/ticker:BTC-USDT\",\"subject\":\"trade.ticker\",\"data\":{\"bestAsk\":\"22451.6\",\"bestAskSize\":\"0.01380616\",\"bestBid\":\"22451.5\",\"bestBidSize\":\"0.87127375\",\"price\":\"22451.6\",\"sequence\":\"1631213026102\",\"size\":\"0.00103377\",\"time\":1655230745770}}\n",
      "{\"type\":\"message\",\"topic\":\"/market/ticker:BTC-USDT\",\"subject\":\"trade.ticker\",\"data\":{\"bestAsk\":\"22451.6\",\"bestAskSize\":\"0.01380616\",\"bestBid\":\"22451.5\",\"bestBidSize\":\"0.87127375\",\"price\":\"22451.6\",\"sequence\":\"1631213026196\",\"size\":\"0.00103377\",\"time\":1655230745869}}\n",
      "{\"type\":\"message\",\"topic\":\"/market/ticker:BTC-USDT\",\"subject\":\"trade.ticker\",\"data\":{\"bestAsk\":\"22451.6\",\"bestAskSize\":\"0.00000616\",\"bestBid\":\"22451.5\",\"bestBidSize\":\"0.87127375\",\"price\":\"22451.6\",\"sequence\":\"1631213026336\",\"size\":\"0.00199384\",\"time\":1655230745968}}\n",
      "{\"type\":\"message\",\"topic\":\"/market/ticker:BTC-USDT\",\"subject\":\"trade.ticker\",\"data\":{\"bestAsk\":\"22454.8\",\"bestAskSize\":\"0.00102349\",\"bestBid\":\"22454.7\",\"bestBidSize\":\"0.24831479\",\"price\":\"22453.3\",\"sequence\":\"1631213026591\",\"size\":\"0.0254735\",\"time\":1655230746069}}\n"
     ]
    },
    {
     "name": "stdout",
     "output_type": "stream",
     "text": [
      "{\"type\":\"message\",\"topic\":\"/market/ticker:BTC-USDT\",\"subject\":\"trade.ticker\",\"data\":{\"bestAsk\":\"22456.9\",\"bestAskSize\":\"0.00004\",\"bestBid\":\"22456.8\",\"bestBidSize\":\"0.04033687\",\"price\":\"22454.9\",\"sequence\":\"1631213026828\",\"size\":\"0.01141832\",\"time\":1655230746169}}\n",
      "{\"type\":\"message\",\"topic\":\"/market/ticker:BTC-USDT\",\"subject\":\"trade.ticker\",\"data\":{\"bestAsk\":\"22456.9\",\"bestAskSize\":\"0.00004\",\"bestBid\":\"22456.8\",\"bestBidSize\":\"0.28837183\",\"price\":\"22454.9\",\"sequence\":\"1631213026999\",\"size\":\"0.01141832\",\"time\":1655230746270}}\n",
      "{\"type\":\"message\",\"topic\":\"/market/ticker:BTC-USDT\",\"subject\":\"trade.ticker\",\"data\":{\"bestAsk\":\"22456.9\",\"bestAskSize\":\"0.00004\",\"bestBid\":\"22456.8\",\"bestBidSize\":\"1.00118495\",\"price\":\"22454.9\",\"sequence\":\"1631213027101\",\"size\":\"0.01141832\",\"time\":1655230746369}}\n",
      "{\"type\":\"message\",\"topic\":\"/market/ticker:BTC-USDT\",\"subject\":\"trade.ticker\",\"data\":{\"bestAsk\":\"22457.7\",\"bestAskSize\":\"0.00035\",\"bestBid\":\"22457.6\",\"bestBidSize\":\"0.05699964\",\"price\":\"22457.1\",\"sequence\":\"1631213027314\",\"size\":\"0.00209675\",\"time\":1655230746469}}\n",
      "{\"type\":\"message\",\"topic\":\"/market/ticker:BTC-USDT\",\"subject\":\"trade.ticker\",\"data\":{\"bestAsk\":\"22460.6\",\"bestAskSize\":\"0.01245431\",\"bestBid\":\"22460.5\",\"bestBidSize\":\"0.80177786\",\"price\":\"22457.7\",\"sequence\":\"1631213027593\",\"size\":\"0.00035\",\"time\":1655230746569}}\n",
      "{\"type\":\"message\",\"topic\":\"/market/ticker:BTC-USDT\",\"subject\":\"trade.ticker\",\"data\":{\"bestAsk\":\"22460.6\",\"bestAskSize\":\"0.01245431\",\"bestBid\":\"22460.5\",\"bestBidSize\":\"1.27331267\",\"price\":\"22457.7\",\"sequence\":\"1631213027756\",\"size\":\"0.00035\",\"time\":1655230746669}}\n",
      "{\"type\":\"message\",\"topic\":\"/market/ticker:BTC-USDT\",\"subject\":\"trade.ticker\",\"data\":{\"bestAsk\":\"22460.6\",\"bestAskSize\":\"0.01245431\",\"bestBid\":\"22460.5\",\"bestBidSize\":\"1.27331267\",\"price\":\"22457.7\",\"sequence\":\"1631213027852\",\"size\":\"0.00035\",\"time\":1655230746769}}\n",
      "{\"type\":\"message\",\"topic\":\"/market/ticker:BTC-USDT\",\"subject\":\"trade.ticker\",\"data\":{\"bestAsk\":\"22460.6\",\"bestAskSize\":\"0.01245431\",\"bestBid\":\"22460.5\",\"bestBidSize\":\"1.27331267\",\"price\":\"22457.7\",\"sequence\":\"1631213027909\",\"size\":\"0.00035\",\"time\":1655230746870}}\n",
      "{\"type\":\"message\",\"topic\":\"/market/ticker:BTC-USDT\",\"subject\":\"trade.ticker\",\"data\":{\"bestAsk\":\"22460.7\",\"bestAskSize\":\"0.70599838\",\"bestBid\":\"22460.6\",\"bestBidSize\":\"0.03888772\",\"price\":\"22460.7\",\"sequence\":\"1631213028013\",\"size\":\"0.12518249\",\"time\":1655230746969}}\n",
      "{\"type\":\"message\",\"topic\":\"/market/ticker:BTC-USDT\",\"subject\":\"trade.ticker\",\"data\":{\"bestAsk\":\"22463\",\"bestAskSize\":\"0.04094205\",\"bestBid\":\"22462.9\",\"bestBidSize\":\"0.16315824\",\"price\":\"22460.8\",\"sequence\":\"1631213028311\",\"size\":\"0.00146339\",\"time\":1655230747069}}\n",
      "{\"type\":\"message\",\"topic\":\"/market/ticker:BTC-USDT\",\"subject\":\"trade.ticker\",\"data\":{\"bestAsk\":\"22463\",\"bestAskSize\":\"0.44120205\",\"bestBid\":\"22462.9\",\"bestBidSize\":\"0.06188724\",\"price\":\"22462.9\",\"sequence\":\"1631213028435\",\"size\":\"0.00069353\",\"time\":1655230747169}}\n",
      "{\"type\":\"message\",\"topic\":\"/market/ticker:BTC-USDT\",\"subject\":\"trade.ticker\",\"data\":{\"bestAsk\":\"22463\",\"bestAskSize\":\"0.44162073\",\"bestBid\":\"22462.9\",\"bestBidSize\":\"0.06188724\",\"price\":\"22462.9\",\"sequence\":\"1631213028512\",\"size\":\"0.00069353\",\"time\":1655230747270}}\n",
      "{\"type\":\"message\",\"topic\":\"/market/ticker:BTC-USDT\",\"subject\":\"trade.ticker\",\"data\":{\"bestAsk\":\"22463\",\"bestAskSize\":\"0.44162073\",\"bestBid\":\"22462.9\",\"bestBidSize\":\"0.06188724\",\"price\":\"22462.9\",\"sequence\":\"1631213028590\",\"size\":\"0.00069353\",\"time\":1655230747372}}\n",
      "{\"type\":\"message\",\"topic\":\"/market/ticker:BTC-USDT\",\"subject\":\"trade.ticker\",\"data\":{\"bestAsk\":\"22463\",\"bestAskSize\":\"0.44162073\",\"bestBid\":\"22462.9\",\"bestBidSize\":\"0.07330556\",\"price\":\"22462.9\",\"sequence\":\"1631213028657\",\"size\":\"0.00069353\",\"time\":1655230747469}}\n",
      "{\"type\":\"message\",\"topic\":\"/market/ticker:BTC-USDT\",\"subject\":\"trade.ticker\",\"data\":{\"bestAsk\":\"22463\",\"bestAskSize\":\"0.44162073\",\"bestBid\":\"22462.9\",\"bestBidSize\":\"0.07413356\",\"price\":\"22462.9\",\"sequence\":\"1631213028737\",\"size\":\"0.00069353\",\"time\":1655230747569}}\n",
      "{\"type\":\"message\",\"topic\":\"/market/ticker:BTC-USDT\",\"subject\":\"trade.ticker\",\"data\":{\"bestAsk\":\"22463\",\"bestAskSize\":\"0.44162073\",\"bestBid\":\"22462.9\",\"bestBidSize\":\"0.07413356\",\"price\":\"22462.9\",\"sequence\":\"1631213028824\",\"size\":\"0.00069353\",\"time\":1655230747669}}\n",
      "{\"type\":\"message\",\"topic\":\"/market/ticker:BTC-USDT\",\"subject\":\"trade.ticker\",\"data\":{\"bestAsk\":\"22463\",\"bestAskSize\":\"0.44162073\",\"bestBid\":\"22462.9\",\"bestBidSize\":\"0.07413356\",\"price\":\"22462.9\",\"sequence\":\"1631213028902\",\"size\":\"0.00069353\",\"time\":1655230747770}}\n",
      "{\"type\":\"message\",\"topic\":\"/market/ticker:BTC-USDT\",\"subject\":\"trade.ticker\",\"data\":{\"bestAsk\":\"22463\",\"bestAskSize\":\"0.44162073\",\"bestBid\":\"22462.9\",\"bestBidSize\":\"0.02846028\",\"price\":\"22462.9\",\"sequence\":\"1631213029029\",\"size\":\"0.00069353\",\"time\":1655230747869}}\n",
      "{\"type\":\"message\",\"topic\":\"/market/ticker:BTC-USDT\",\"subject\":\"trade.ticker\",\"data\":{\"bestAsk\":\"22463\",\"bestAskSize\":\"0.44162073\",\"bestBid\":\"22462.9\",\"bestBidSize\":\"0.02846028\",\"price\":\"22462.9\",\"sequence\":\"1631213029099\",\"size\":\"0.00069353\",\"time\":1655230747969}}\n",
      "{\"type\":\"message\",\"topic\":\"/market/ticker:BTC-USDT\",\"subject\":\"trade.ticker\",\"data\":{\"bestAsk\":\"22463\",\"bestAskSize\":\"0.44162073\",\"bestBid\":\"22462.9\",\"bestBidSize\":\"0.02846028\",\"price\":\"22462.9\",\"sequence\":\"1631213029166\",\"size\":\"0.00069353\",\"time\":1655230748070}}\n",
      "{\"type\":\"message\",\"topic\":\"/market/ticker:BTC-USDT\",\"subject\":\"trade.ticker\",\"data\":{\"bestAsk\":\"22463\",\"bestAskSize\":\"0.84981196\",\"bestBid\":\"22462.9\",\"bestBidSize\":\"0.02846028\",\"price\":\"22462.9\",\"sequence\":\"1631213029218\",\"size\":\"0.00069353\",\"time\":1655230748169}}\n"
     ]
    },
    {
     "ename": "CancelledError",
     "evalue": "",
     "output_type": "error",
     "traceback": [
      "\u001b[0;31m---------------------------------------------------------------------------\u001b[0m",
      "\u001b[0;31mCancelledError\u001b[0m                            Traceback (most recent call last)",
      "Input \u001b[0;32mIn [7]\u001b[0m, in \u001b[0;36m<cell line: 1>\u001b[0;34m()\u001b[0m\n\u001b[1;32m      3\u001b[0m res \u001b[38;5;241m=\u001b[39m \u001b[38;5;28;01mawait\u001b[39;00m conn\u001b[38;5;241m.\u001b[39mrecv() \u001b[38;5;66;03m# recieves ws message\u001b[39;00m\n\u001b[1;32m      5\u001b[0m \u001b[38;5;28;01mwhile\u001b[39;00m \u001b[38;5;28;01mTrue\u001b[39;00m:\n\u001b[0;32m----> 6\u001b[0m     res \u001b[38;5;241m=\u001b[39m \u001b[38;5;28;01mawait\u001b[39;00m conn\u001b[38;5;241m.\u001b[39mrecv()\n\u001b[1;32m      7\u001b[0m     \u001b[38;5;28mprint\u001b[39m(res)\n\u001b[1;32m      8\u001b[0m \u001b[38;5;28;01mawait\u001b[39;00m conn\u001b[38;5;241m.\u001b[39mclose()\n",
      "File \u001b[0;32m/miniconda/envs/crypto/lib/python3.9/site-packages/websockets/legacy/protocol.py:536\u001b[0m, in \u001b[0;36mWebSocketCommonProtocol.recv\u001b[0;34m(self)\u001b[0m\n\u001b[1;32m    532\u001b[0m \u001b[38;5;28mself\u001b[39m\u001b[38;5;241m.\u001b[39m_pop_message_waiter \u001b[38;5;241m=\u001b[39m pop_message_waiter\n\u001b[1;32m    533\u001b[0m \u001b[38;5;28;01mtry\u001b[39;00m:\n\u001b[1;32m    534\u001b[0m     \u001b[38;5;66;03m# If asyncio.wait() is canceled, it doesn't cancel\u001b[39;00m\n\u001b[1;32m    535\u001b[0m     \u001b[38;5;66;03m# pop_message_waiter and self.transfer_data_task.\u001b[39;00m\n\u001b[0;32m--> 536\u001b[0m     \u001b[38;5;28;01mawait\u001b[39;00m asyncio\u001b[38;5;241m.\u001b[39mwait(\n\u001b[1;32m    537\u001b[0m         [pop_message_waiter, \u001b[38;5;28mself\u001b[39m\u001b[38;5;241m.\u001b[39mtransfer_data_task],\n\u001b[1;32m    538\u001b[0m         return_when\u001b[38;5;241m=\u001b[39masyncio\u001b[38;5;241m.\u001b[39mFIRST_COMPLETED,\n\u001b[1;32m    539\u001b[0m         \u001b[38;5;241m*\u001b[39m\u001b[38;5;241m*\u001b[39mloop_if_py_lt_38(\u001b[38;5;28mself\u001b[39m\u001b[38;5;241m.\u001b[39mloop),\n\u001b[1;32m    540\u001b[0m     )\n\u001b[1;32m    541\u001b[0m \u001b[38;5;28;01mfinally\u001b[39;00m:\n\u001b[1;32m    542\u001b[0m     \u001b[38;5;28mself\u001b[39m\u001b[38;5;241m.\u001b[39m_pop_message_waiter \u001b[38;5;241m=\u001b[39m \u001b[38;5;28;01mNone\u001b[39;00m\n",
      "File \u001b[0;32m/miniconda/envs/crypto/lib/python3.9/asyncio/tasks.py:413\u001b[0m, in \u001b[0;36mwait\u001b[0;34m(fs, loop, timeout, return_when)\u001b[0m\n\u001b[1;32m    406\u001b[0m     warnings\u001b[38;5;241m.\u001b[39mwarn(\u001b[38;5;124m\"\u001b[39m\u001b[38;5;124mThe explicit passing of coroutine objects to \u001b[39m\u001b[38;5;124m\"\u001b[39m\n\u001b[1;32m    407\u001b[0m                   \u001b[38;5;124m\"\u001b[39m\u001b[38;5;124masyncio.wait() is deprecated since Python 3.8, and \u001b[39m\u001b[38;5;124m\"\u001b[39m\n\u001b[1;32m    408\u001b[0m                   \u001b[38;5;124m\"\u001b[39m\u001b[38;5;124mscheduled for removal in Python 3.11.\u001b[39m\u001b[38;5;124m\"\u001b[39m,\n\u001b[1;32m    409\u001b[0m                   \u001b[38;5;167;01mDeprecationWarning\u001b[39;00m, stacklevel\u001b[38;5;241m=\u001b[39m\u001b[38;5;241m2\u001b[39m)\n\u001b[1;32m    411\u001b[0m fs \u001b[38;5;241m=\u001b[39m {ensure_future(f, loop\u001b[38;5;241m=\u001b[39mloop) \u001b[38;5;28;01mfor\u001b[39;00m f \u001b[38;5;129;01min\u001b[39;00m fs}\n\u001b[0;32m--> 413\u001b[0m \u001b[38;5;28;01mreturn\u001b[39;00m \u001b[38;5;28;01mawait\u001b[39;00m _wait(fs, timeout, return_when, loop)\n",
      "File \u001b[0;32m/miniconda/envs/crypto/lib/python3.9/asyncio/tasks.py:525\u001b[0m, in \u001b[0;36m_wait\u001b[0;34m(fs, timeout, return_when, loop)\u001b[0m\n\u001b[1;32m    522\u001b[0m     f\u001b[38;5;241m.\u001b[39madd_done_callback(_on_completion)\n\u001b[1;32m    524\u001b[0m \u001b[38;5;28;01mtry\u001b[39;00m:\n\u001b[0;32m--> 525\u001b[0m     \u001b[38;5;28;01mawait\u001b[39;00m waiter\n\u001b[1;32m    526\u001b[0m \u001b[38;5;28;01mfinally\u001b[39;00m:\n\u001b[1;32m    527\u001b[0m     \u001b[38;5;28;01mif\u001b[39;00m timeout_handle \u001b[38;5;129;01mis\u001b[39;00m \u001b[38;5;129;01mnot\u001b[39;00m \u001b[38;5;28;01mNone\u001b[39;00m:\n",
      "\u001b[0;31mCancelledError\u001b[0m: "
     ]
    }
   ],
   "source": [
    "async with websockets.connect(endpoint+\"?token=\"+token) as conn: # creates ws connection\n",
    "    await conn.send(json.dumps(sub)) # sends ws message\n",
    "    res = await conn.recv() # recieves ws message\n",
    "    \n",
    "    while True:\n",
    "        res = await conn.recv()\n",
    "        print(res)\n",
    "    await conn.close()"
   ]
  },
  {
   "cell_type": "markdown",
   "id": "ade0a373",
   "metadata": {},
   "source": [
    "# Multiplex Websocket Connection SPOT-FUTURE"
   ]
  },
  {
   "cell_type": "code",
   "execution_count": 8,
   "id": "44c70756",
   "metadata": {},
   "outputs": [],
   "source": [
    "multi = {\"id\": \"1Jpg30DEdU\", \"type\": \"openTunnel\", \"newTunnelId\": \"bt1\", \"response\": False}\n",
    "# command used to open tunnel"
   ]
  },
  {
   "cell_type": "code",
   "execution_count": 9,
   "id": "a3c397c5",
   "metadata": {},
   "outputs": [],
   "source": [
    "multi_spotEth = {\"id\": \"1JpoPamgFM\",\n",
    "             \"type\": \"subscribe\",\n",
    "             \"topic\": \"/market/ticker:ETH-USDT\",\n",
    "             \"tunnelId\": \"bt1\", \"response\": False}\n",
    "# subscriptions to websocket with tunnelID attached"
   ]
  },
  {
   "cell_type": "code",
   "execution_count": 10,
   "id": "b483db3f",
   "metadata": {},
   "outputs": [],
   "source": [
    "multi_futureEth = {\"id\": 1545910660740,                          \n",
    "                \"type\": \"subscribe\",\n",
    "                \"topic\": \"/contractMarket/tickerV2:ETHUSDTM\",\n",
    "                \"tunnelId\": \"bt1\", \"response\": False}\n",
    "# subscriptions to websocket with tunnelID attached"
   ]
  },
  {
   "cell_type": "markdown",
   "id": "caf3b399",
   "metadata": {},
   "source": [
    "<h3>Multiplex Websocket Connection</h3>"
   ]
  },
  {
   "cell_type": "code",
   "execution_count": null,
   "id": "ab89fdee",
   "metadata": {},
   "outputs": [],
   "source": [
    "async with websockets.connect(endpoint+\"?token=\"+token) as conn:\n",
    "    await conn.send(json.dumps(multi))  # initial open tunel command\n",
    "    res = await conn.recv()\n",
    "    \n",
    "    await conn.send(json.dumps(multi_spotEth)) # send tunnel subscription\n",
    "    res = await conn.recv()\n",
    "    await conn.send(json.dumps(multi_futureEth))  # send tunnel subscription\n",
    "    res = await conn.recv()\n",
    "    \n",
    "    counter = 0\n",
    "    spotPrice = 0\n",
    "    futurePrice = 0\n",
    "    while True:\n",
    "        res = await conn.recv()\n",
    "        vals = json.loads(res)\n",
    "\n",
    "        if (vals['topic']) == '/contractMarket/tickerV2:ETHUSDTM':\n",
    "#             print(f\"Future Price is: {vals['data']['bestAskPrice']}\")\n",
    "            futurePrice = float(vals['data']['bestAskPrice'])\n",
    "\n",
    "        elif (vals['topic']) == '/market/ticker:ETH-USDT':\n",
    "#             print(f\"Spot Price is: {vals['data']['bestAsk']}\")\n",
    "            spotPrice = float(vals['data']['bestAsk'])\n",
    "    \n",
    "#         print(spotPrice - futurePrice)\n",
    "        \n",
    "        if spotPrice - futurePrice > 0.8 and futurePrice != 0 and spotPrice != 0:\n",
    "            print('Long Future and Short Spot')\n",
    "            \n",
    "        elif futurePrice - spotPrice > 0.8 and futurePrice != 0 and spotPrice != 0:\n",
    "            print('Long Spot and Short Future')\n",
    "            \n",
    "        counter += 1\n",
    "    eth_tunnel = {\"id\": \"1JpoPamgFM\", \"type\": \"closeTunnel\", \"tunnelId\": \"bt1\", \"response\": False}            \n",
    "    btc_tunnel = {\"id\": \"1JpoPamgFN\", \"type\": \"closeTunnel\", \"tunnelId\": \"bt1\", \"response\": False}\n",
    "    await conn.send(json.dumps(eth_tunnel))\n",
    "    await conn.send(json.dumps(btc_tunnel))\n",
    "    await conn.close()"
   ]
  },
  {
   "cell_type": "markdown",
   "id": "cb06062b",
   "metadata": {},
   "source": [
    "# Triangle Arbitrage"
   ]
  },
  {
   "cell_type": "code",
   "execution_count": 13,
   "id": "1118405c",
   "metadata": {},
   "outputs": [
    {
     "name": "stdout",
     "output_type": "stream",
     "text": [
      "{'type': 'message', 'tunnelId': 'bt1', 'topic': '/market/ticker:ETH-USDT', 'subject': 'trade.ticker', 'data': {'bestAsk': '1227.09', 'bestAskSize': '6.2468595', 'bestBid': '1227.08', 'bestBidSize': '0.1248', 'price': '1227.09', 'sequence': '1629525353061', 'size': '0.007169', 'time': 1655230779442}}\n"
     ]
    }
   ],
   "source": [
    "async with websockets.connect(endpoint+\"?token=\"+token) as conn:\n",
    "    await conn.send(json.dumps(multi))  # initial open tunel command\n",
    "    res = await conn.recv()\n",
    "    \n",
    "    await conn.send(json.dumps(multi_spotEth)) # send tunnel subscription\n",
    "    res = await conn.recv()\n",
    "#     await conn.send(json.dumps(multi_futureEth))  # send tunnel subscription\n",
    "#     res = await conn.recv()\n",
    "    \n",
    "    counter = 0\n",
    "    spotPrice = 0\n",
    "    futurePrice = 0\n",
    "    while True and counter < 1:\n",
    "        res = await conn.recv()\n",
    "        vals = json.loads(res)\n",
    "\n",
    "#         if (vals['topic']) == '/contractMarket/tickerV2:ETHUSDTM':\n",
    "#             print(f\"Future Price is: {vals['data']['bestAskPrice']}\")\n",
    "#             futurePrice = float(vals['data']['bestAskPrice'])\n",
    "\n",
    "        if (vals['topic']) == '/market/ticker:ETH-USDT':\n",
    "            print(vals)\n",
    "            \n",
    "            \n",
    "        counter += 1\n",
    "    eth_tunnel = {\"id\": \"1JpoPamgFM\", \"type\": \"closeTunnel\", \"tunnelId\": \"bt1\", \"response\": False}            \n",
    "    btc_tunnel = {\"id\": \"1JpoPamgFN\", \"type\": \"closeTunnel\", \"tunnelId\": \"bt1\", \"response\": False}\n",
    "    await conn.send(json.dumps(eth_tunnel))\n",
    "    await conn.send(json.dumps(btc_tunnel))\n",
    "    await conn.close()"
   ]
  },
  {
   "cell_type": "markdown",
   "id": "c7a222db",
   "metadata": {},
   "source": [
    "# Trying to Long the underpriced and short the overpriced"
   ]
  },
  {
   "cell_type": "code",
   "execution_count": null,
   "id": "d45defbc",
   "metadata": {},
   "outputs": [],
   "source": []
  }
 ],
 "metadata": {
  "kernelspec": {
   "display_name": "Python 3 (ipykernel)",
   "language": "python",
   "name": "python3"
  },
  "language_info": {
   "codemirror_mode": {
    "name": "ipython",
    "version": 3
   },
   "file_extension": ".py",
   "mimetype": "text/x-python",
   "name": "python",
   "nbconvert_exporter": "python",
   "pygments_lexer": "ipython3",
   "version": "3.9.13"
  }
 },
 "nbformat": 4,
 "nbformat_minor": 5
}
