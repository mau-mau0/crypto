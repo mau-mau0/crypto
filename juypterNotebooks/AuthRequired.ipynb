{
 "cells": [
  {
   "cell_type": "code",
   "execution_count": 25,
   "id": "dfece12f",
   "metadata": {},
   "outputs": [],
   "source": [
    "from requests import Session\n",
    "import pandas as pd\n",
    "import time\n",
    "import hashlib\n",
    "import hmac\n",
    "import base64\n",
    "import json"
   ]
  },
  {
   "cell_type": "markdown",
   "id": "44afdcaf",
   "metadata": {},
   "source": [
    "# Import Classified"
   ]
  },
  {
   "cell_type": "code",
   "execution_count": 26,
   "id": "3b0b34b5",
   "metadata": {},
   "outputs": [],
   "source": [
    "import sys\n",
    "sys.path.append('..')\n",
    "import classified"
   ]
  },
  {
   "cell_type": "markdown",
   "id": "de86db44",
   "metadata": {},
   "source": [
    "# GLOBAL"
   ]
  },
  {
   "cell_type": "code",
   "execution_count": 27,
   "id": "f776ccee",
   "metadata": {},
   "outputs": [],
   "source": [
    "api_key = classified.API_KEY\n",
    "api_secret = classified.API_SECRET\n",
    "api_passphrase = classified.API_PASSPHRASE"
   ]
  },
  {
   "cell_type": "code",
   "execution_count": 28,
   "id": "96ee67d3",
   "metadata": {},
   "outputs": [],
   "source": [
    "def authentication(method, endpoint):\n",
    "    now = int(time.time() * 1000)\n",
    "    str_to_sign = str(now) + method.upper() + endpoint\n",
    "    signature = base64.b64encode(\n",
    "        hmac.new(api_secret.encode('utf-8'), str_to_sign.encode('utf-8'), hashlib.sha256).digest())\n",
    "    passphrase = base64.b64encode(hmac.new(api_secret.encode('utf-8'), api_passphrase.encode('utf-8'), hashlib.sha256).digest())\n",
    "    headers = {\n",
    "        \"KC-API-SIGN\": signature,\n",
    "        \"KC-API-TIMESTAMP\": str(now),\n",
    "        \"KC-API-KEY\": api_key,\n",
    "        \"KC-API-PASSPHRASE\": passphrase,\n",
    "        \"KC-API-KEY-VERSION\": \"2\"\n",
    "    }\n",
    "    return headers"
   ]
  },
  {
   "cell_type": "markdown",
   "id": "d602bb69",
   "metadata": {},
   "source": [
    "# Private API"
   ]
  },
  {
   "cell_type": "code",
   "execution_count": 29,
   "id": "830f08de",
   "metadata": {},
   "outputs": [],
   "source": [
    "class PrivateData:\n",
    "    # https://docs.kucoin.com/ - API Documentaion\n",
    "\n",
    "    def __init__(self):\n",
    "        self.apiurl = \"https://api.kucoin.com\"  # base url for kucoin\n",
    "        self.session = Session()\n",
    "\n",
    "    # returns account balance\n",
    "    def getBalance(self):\n",
    "        url = self.apiurl + '/api/v1/accounts'\n",
    "        headers = authentication('get', '/api/v1/accounts')\n",
    "        r = self.session.get(url, headers=headers)\n",
    "        data = r.json()[\"data\"]\n",
    "        df = pd.DataFrame.from_dict(data)\n",
    "        return df\n",
    "    \n",
    "    # returns the full order book for a trading pair\n",
    "    def getFullOrderBook(self, symbol):  # FIXME\n",
    "        url = self.apiurl + '/api/v3/market/orderbook/level2'\n",
    "        headers = authentication(method='get', endpoint='/api/v3/market/orderbook/level2')\n",
    "        parameters = {\"symbol\": symbol}\n",
    "        r = self.session.get(url, headers=headers, params=parameters)\n",
    "        data = r.json()\n",
    "        return data\n",
    "    \n",
    "    def placeOrder(self, details): # FIXME\n",
    "        detailStr = json.dumps(details)\n",
    "        url = self.apiurl + '/api/v1/orders'\n",
    "        headers = authentication('post', '/api/v1/orders')\n",
    "        return self.session.post(url, headers=headers, data=detailStr, timeout=5).json()\n",
    "    \n",
    "    def cancelOrder(self, orderId): # FIXME\n",
    "        detailStr = json.dumps(details)\n",
    "        url = self.apiurl + '/api/v1/orders/' + orderId\n",
    "        headers = authentication('delete', '/api/v1/orders/'+ orderId)\n",
    "        return self.session.post(url, headers=headers, data=detailStr, timeout=5).json()\n",
    "    \n",
    "    def cancelAllOrders(self):\n",
    "        pass\n"
   ]
  },
  {
   "cell_type": "code",
   "execution_count": 30,
   "id": "c84738a0",
   "metadata": {},
   "outputs": [
    {
     "data": {
      "text/plain": [
       "'{\"clientOid\": \"1\", \"side\": \"buy\", \"symbol\": \"ETH-USDT\", \"type\": \"limit\", \"price\": \"1\", \"size\": \"0.1\"}'"
      ]
     },
     "execution_count": 30,
     "metadata": {},
     "output_type": "execute_result"
    }
   ],
   "source": [
    "details = {\"clientOid\": str(1), \"side\": \"buy\", \"symbol\": \"ETH-USDT\", \"type\": \"limit\", \"price\": \"1\", \"size\": \"0.1\"}\n",
    "json.dumps(details)"
   ]
  },
  {
   "cell_type": "code",
   "execution_count": 31,
   "id": "7b511729",
   "metadata": {},
   "outputs": [],
   "source": [
    "kucoinAPI = PrivateData()"
   ]
  },
  {
   "cell_type": "code",
   "execution_count": 32,
   "id": "abd0cc34",
   "metadata": {
    "scrolled": true
   },
   "outputs": [
    {
     "ename": "KeyError",
     "evalue": "'data'",
     "output_type": "error",
     "traceback": [
      "\u001b[0;31m---------------------------------------------------------------------------\u001b[0m",
      "\u001b[0;31mKeyError\u001b[0m                                  Traceback (most recent call last)",
      "Input \u001b[0;32mIn [32]\u001b[0m, in \u001b[0;36m<cell line: 1>\u001b[0;34m()\u001b[0m\n\u001b[0;32m----> 1\u001b[0m \u001b[43mkucoinAPI\u001b[49m\u001b[38;5;241;43m.\u001b[39;49m\u001b[43mgetBalance\u001b[49m\u001b[43m(\u001b[49m\u001b[43m)\u001b[49m\n",
      "Input \u001b[0;32mIn [29]\u001b[0m, in \u001b[0;36mPrivateData.getBalance\u001b[0;34m(self)\u001b[0m\n\u001b[1;32m     11\u001b[0m headers \u001b[38;5;241m=\u001b[39m authentication(\u001b[38;5;124m'\u001b[39m\u001b[38;5;124mget\u001b[39m\u001b[38;5;124m'\u001b[39m, \u001b[38;5;124m'\u001b[39m\u001b[38;5;124m/api/v1/accounts\u001b[39m\u001b[38;5;124m'\u001b[39m)\n\u001b[1;32m     12\u001b[0m r \u001b[38;5;241m=\u001b[39m \u001b[38;5;28mself\u001b[39m\u001b[38;5;241m.\u001b[39msession\u001b[38;5;241m.\u001b[39mget(url, headers\u001b[38;5;241m=\u001b[39mheaders)\n\u001b[0;32m---> 13\u001b[0m data \u001b[38;5;241m=\u001b[39m \u001b[43mr\u001b[49m\u001b[38;5;241;43m.\u001b[39;49m\u001b[43mjson\u001b[49m\u001b[43m(\u001b[49m\u001b[43m)\u001b[49m\u001b[43m[\u001b[49m\u001b[38;5;124;43m\"\u001b[39;49m\u001b[38;5;124;43mdata\u001b[39;49m\u001b[38;5;124;43m\"\u001b[39;49m\u001b[43m]\u001b[49m\n\u001b[1;32m     14\u001b[0m df \u001b[38;5;241m=\u001b[39m pd\u001b[38;5;241m.\u001b[39mDataFrame\u001b[38;5;241m.\u001b[39mfrom_dict(data)\n\u001b[1;32m     15\u001b[0m \u001b[38;5;28;01mreturn\u001b[39;00m df\n",
      "\u001b[0;31mKeyError\u001b[0m: 'data'"
     ]
    }
   ],
   "source": [
    "kucoinAPI.getBalance()"
   ]
  },
  {
   "cell_type": "code",
   "execution_count": 33,
   "id": "ac51d3ce",
   "metadata": {},
   "outputs": [
    {
     "data": {
      "text/plain": [
       "{'code': '400005', 'msg': 'Invalid KC-API-SIGN'}"
      ]
     },
     "execution_count": 33,
     "metadata": {},
     "output_type": "execute_result"
    }
   ],
   "source": [
    "kucoinAPI.getFullOrderBook('ETH-USDT')"
   ]
  },
  {
   "cell_type": "code",
   "execution_count": 34,
   "id": "89ed3b35",
   "metadata": {},
   "outputs": [
    {
     "data": {
      "text/plain": [
       "{'code': '400005', 'msg': 'Invalid KC-API-SIGN'}"
      ]
     },
     "execution_count": 34,
     "metadata": {},
     "output_type": "execute_result"
    }
   ],
   "source": [
    "kucoinAPI.placeOrder(details)"
   ]
  },
  {
   "cell_type": "code",
   "execution_count": null,
   "id": "5a4d5b06",
   "metadata": {},
   "outputs": [],
   "source": []
  },
  {
   "cell_type": "code",
   "execution_count": null,
   "id": "5de30962",
   "metadata": {},
   "outputs": [],
   "source": []
  },
  {
   "cell_type": "code",
   "execution_count": null,
   "id": "ca406085",
   "metadata": {},
   "outputs": [],
   "source": []
  }
 ],
 "metadata": {
  "kernelspec": {
   "display_name": "Python 3 (ipykernel)",
   "language": "python",
   "name": "python3"
  },
  "language_info": {
   "codemirror_mode": {
    "name": "ipython",
    "version": 3
   },
   "file_extension": ".py",
   "mimetype": "text/x-python",
   "name": "python",
   "nbconvert_exporter": "python",
   "pygments_lexer": "ipython3",
   "version": "3.9.13"
  }
 },
 "nbformat": 4,
 "nbformat_minor": 5
}
