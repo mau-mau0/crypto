{
 "cells": [
  {
   "cell_type": "code",
   "execution_count": 15,
   "id": "7cb19c26",
   "metadata": {},
   "outputs": [],
   "source": [
    "import requests\n",
    "from requests import Session\n",
    "import pandas as pd"
   ]
  },
  {
   "cell_type": "code",
   "execution_count": 246,
   "id": "dffc599f",
   "metadata": {},
   "outputs": [],
   "source": [
    "class MarketData:\n",
    "    \n",
    "    def __init__(self):\n",
    "        self.apiurl = 'https://api.kucoin.com'\n",
    "        self.session = Session()\n",
    "        \n",
    "    def getAllTickers(self):\n",
    "        url = self.apiurl + '/api/v1/market/allTickers'\n",
    "        r = self.session.get(url)\n",
    "        data = r.json()['data']['ticker']\n",
    "        df = pd.DataFrame.from_dict(data, orient='columns')\n",
    "        return df.loc[:, ['symbolName', 'buy', 'sell', 'changeRate', 'changePrice', 'high', 'low', 'vol', 'last', 'averagePrice']]\n",
    "    \n",
    "    def getTicker(self, symbol):\n",
    "        url = self.apiurl + '/api/v1/market/orderbook/level1'\n",
    "        parameters = {'symbol': symbol}\n",
    "        r = self.session.get(url, params=parameters)\n",
    "        data = r.json()['data']\n",
    "        df = pd.DataFrame.from_dict(data, orient='index', columns = [symbol])\n",
    "        return df\n",
    "    \n",
    "    def getFullOrderBook(self, symbol): # needs headers and API key\n",
    "        url = self.apiurl + '/api/v3/market/orderbook/level2'\n",
    "        parameters = {'symbol': symbol}\n",
    "        r = self.session.get(url, params=parameters)\n",
    "        data = r.json()\n",
    "        return data\n",
    "    \n",
    "    def getPartOrderBook(self, symbol, amount):  # does not required API KEY\n",
    "        # amount can be 20 pieces of data or 100 pieces of data\n",
    "        url = self.apiurl + \"/api/v1/market/orderbook/level2_\" + amount\n",
    "        parameters = {\"symbol\": symbol, \"amount\": amount}\n",
    "        r = self.session.get(url, params=parameters)\n",
    "        bids = r.json()[\"data\"]['bids']\n",
    "        asks = r.json()[\"data\"]['asks']\n",
    "        dfBids = pd.DataFrame.from_dict(bids, orient='columns')\n",
    "        dfAsk = pd.DataFrame.from_dict(asks)\n",
    "        return dfBids, dfAsk"
   ]
  },
  {
   "cell_type": "code",
   "execution_count": 247,
   "id": "1003652f",
   "metadata": {},
   "outputs": [],
   "source": [
    "kucoinAPI = MarketData()"
   ]
  },
  {
   "cell_type": "code",
   "execution_count": 248,
   "id": "a9f33c75",
   "metadata": {},
   "outputs": [],
   "source": [
    "# kucoinAPI.getAllTickers()"
   ]
  },
  {
   "cell_type": "code",
   "execution_count": 249,
   "id": "d31ef037",
   "metadata": {},
   "outputs": [
    {
     "data": {
      "text/html": [
       "<div>\n",
       "<style scoped>\n",
       "    .dataframe tbody tr th:only-of-type {\n",
       "        vertical-align: middle;\n",
       "    }\n",
       "\n",
       "    .dataframe tbody tr th {\n",
       "        vertical-align: top;\n",
       "    }\n",
       "\n",
       "    .dataframe thead th {\n",
       "        text-align: right;\n",
       "    }\n",
       "</style>\n",
       "<table border=\"1\" class=\"dataframe\">\n",
       "  <thead>\n",
       "    <tr style=\"text-align: right;\">\n",
       "      <th></th>\n",
       "      <th>ETH-USDT</th>\n",
       "    </tr>\n",
       "  </thead>\n",
       "  <tbody>\n",
       "    <tr>\n",
       "      <th>time</th>\n",
       "      <td>1653257141647</td>\n",
       "    </tr>\n",
       "    <tr>\n",
       "      <th>sequence</th>\n",
       "      <td>1628181282134</td>\n",
       "    </tr>\n",
       "    <tr>\n",
       "      <th>price</th>\n",
       "      <td>2030.71</td>\n",
       "    </tr>\n",
       "    <tr>\n",
       "      <th>size</th>\n",
       "      <td>0.99787</td>\n",
       "    </tr>\n",
       "    <tr>\n",
       "      <th>bestBid</th>\n",
       "      <td>2031.06</td>\n",
       "    </tr>\n",
       "    <tr>\n",
       "      <th>bestBidSize</th>\n",
       "      <td>1.7206679</td>\n",
       "    </tr>\n",
       "    <tr>\n",
       "      <th>bestAsk</th>\n",
       "      <td>2031.07</td>\n",
       "    </tr>\n",
       "    <tr>\n",
       "      <th>bestAskSize</th>\n",
       "      <td>0.01</td>\n",
       "    </tr>\n",
       "  </tbody>\n",
       "</table>\n",
       "</div>"
      ],
      "text/plain": [
       "                  ETH-USDT\n",
       "time         1653257141647\n",
       "sequence     1628181282134\n",
       "price              2030.71\n",
       "size               0.99787\n",
       "bestBid            2031.06\n",
       "bestBidSize      1.7206679\n",
       "bestAsk            2031.07\n",
       "bestAskSize           0.01"
      ]
     },
     "execution_count": 249,
     "metadata": {},
     "output_type": "execute_result"
    }
   ],
   "source": [
    "kucoinAPI.getTicker('ETH-USDT')"
   ]
  },
  {
   "cell_type": "code",
   "execution_count": 250,
   "id": "1a218d22",
   "metadata": {},
   "outputs": [
    {
     "data": {
      "text/plain": [
       "(          0           1\n",
       " 0   2030.26   3.9066808\n",
       " 1    2030.2   0.0685463\n",
       " 2   2030.19      7.5067\n",
       " 3   2030.11       0.145\n",
       " 4    2030.1    21.09961\n",
       " 5   2030.05       1.492\n",
       " 6   2029.94   4.0998033\n",
       " 7   2029.91       2.977\n",
       " 8   2029.87   0.2501064\n",
       " 9   2029.76   0.0030465\n",
       " 10  2029.74     7.95427\n",
       " 11  2029.73   3.0014664\n",
       " 12  2029.61   2.1879274\n",
       " 13   2029.6  12.9699998\n",
       " 14  2029.57         1.6\n",
       " 15  2029.55         0.8\n",
       " 16  2029.53         1.6\n",
       " 17  2029.51   0.2523281\n",
       " 18  2029.45   6.1494291\n",
       " 19  2029.44   6.3093101,\n",
       "           0          1\n",
       " 0   2030.27  0.1919256\n",
       " 1    2030.4  1.2330352\n",
       " 2   2030.42  2.8371868\n",
       " 3   2030.58  0.2317307\n",
       " 4   2030.65  1.0697769\n",
       " 5   2030.67        0.1\n",
       " 6   2030.69  0.2135463\n",
       " 7    2030.7         10\n",
       " 8   2030.71  5.1669528\n",
       " 9   2030.73     7.5067\n",
       " 10  2030.77  0.0016666\n",
       " 11  2030.79  0.2147793\n",
       " 12  2030.86        0.8\n",
       " 13   2030.9     0.5065\n",
       " 14  2030.91  0.2501064\n",
       " 15  2030.96        1.6\n",
       " 16  2030.99  2.4659892\n",
       " 17  2031.01  0.1047346\n",
       " 18  2031.02  2.3143142\n",
       " 19  2031.28   2.176667)"
      ]
     },
     "execution_count": 250,
     "metadata": {},
     "output_type": "execute_result"
    }
   ],
   "source": [
    "kucoinAPI.getPartOrderBook('ETH-USDT', '20')"
   ]
  },
  {
   "cell_type": "code",
   "execution_count": null,
   "id": "ae4657db",
   "metadata": {},
   "outputs": [],
   "source": []
  },
  {
   "cell_type": "code",
   "execution_count": null,
   "id": "f64af129",
   "metadata": {},
   "outputs": [],
   "source": []
  },
  {
   "cell_type": "code",
   "execution_count": null,
   "id": "55f9f2ff",
   "metadata": {},
   "outputs": [],
   "source": []
  },
  {
   "cell_type": "code",
   "execution_count": null,
   "id": "2fa0611b",
   "metadata": {},
   "outputs": [],
   "source": []
  }
 ],
 "metadata": {
  "kernelspec": {
   "display_name": "Python 3 (ipykernel)",
   "language": "python",
   "name": "python3"
  },
  "language_info": {
   "codemirror_mode": {
    "name": "ipython",
    "version": 3
   },
   "file_extension": ".py",
   "mimetype": "text/x-python",
   "name": "python",
   "nbconvert_exporter": "python",
   "pygments_lexer": "ipython3",
   "version": "3.9.12"
  }
 },
 "nbformat": 4,
 "nbformat_minor": 5
}
