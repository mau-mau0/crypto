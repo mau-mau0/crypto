{
 "cells": [
  {
   "cell_type": "code",
   "execution_count": 1,
   "id": "7cb19c26",
   "metadata": {},
   "outputs": [
    {
     "ename": "ModuleNotFoundError",
     "evalue": "No module named 'requests'",
     "output_type": "error",
     "traceback": [
      "\u001b[0;31m---------------------------------------------------------------------------\u001b[0m",
      "\u001b[0;31mModuleNotFoundError\u001b[0m                       Traceback (most recent call last)",
      "Input \u001b[0;32mIn [1]\u001b[0m, in \u001b[0;36m<cell line: 1>\u001b[0;34m()\u001b[0m\n\u001b[0;32m----> 1\u001b[0m \u001b[38;5;28;01mimport\u001b[39;00m \u001b[38;5;21;01mrequests\u001b[39;00m\n\u001b[1;32m      2\u001b[0m \u001b[38;5;28;01mfrom\u001b[39;00m \u001b[38;5;21;01mrequests\u001b[39;00m \u001b[38;5;28;01mimport\u001b[39;00m Session\n\u001b[1;32m      3\u001b[0m \u001b[38;5;28;01mimport\u001b[39;00m \u001b[38;5;21;01mpandas\u001b[39;00m \u001b[38;5;28;01mas\u001b[39;00m \u001b[38;5;21;01mpd\u001b[39;00m\n",
      "\u001b[0;31mModuleNotFoundError\u001b[0m: No module named 'requests'"
     ]
    }
   ],
   "source": [
    "import requests\n",
    "from requests import Session\n",
    "import pandas as pd"
   ]
  },
  {
   "cell_type": "markdown",
   "id": "d5a5104e",
   "metadata": {},
   "source": [
    "# Public API"
   ]
  },
  {
   "cell_type": "code",
   "execution_count": null,
   "id": "dffc599f",
   "metadata": {},
   "outputs": [],
   "source": [
    "class MarketData:\n",
    "    # https://docs.kucoin.com/ - API Documentaion\n",
    "\n",
    "    def __init__(self):\n",
    "        self.apiurl = \"https://api.kucoin.com\"  # base url for kucoin\n",
    "        self.session = Session()\n",
    "\n",
    "    # returns all tickers\n",
    "    def getAllTickers(self):\n",
    "        url = self.apiurl + \"/api/v1/market/allTickers\"\n",
    "        r = self.session.get(url)\n",
    "        data = r.json()[\"data\"][\"ticker\"]\n",
    "        df = pd.DataFrame.from_dict(data, orient=\"columns\")\n",
    "        return df.loc[\n",
    "            :,\n",
    "            [\n",
    "                \"symbolName\",\n",
    "                \"buy\",\n",
    "                \"sell\",\n",
    "                \"changeRate\",\n",
    "                \"changePrice\",\n",
    "                \"high\",\n",
    "                \"low\",\n",
    "                \"vol\",\n",
    "                \"last\",\n",
    "                \"averagePrice\",\n",
    "            ],\n",
    "        ]\n",
    "\n",
    "    # returns a single trading pair ex. 'BTC-USDT'\n",
    "    def getTicker(self, symbol):\n",
    "        url = self.apiurl + \"/api/v1/market/orderbook/level1\"\n",
    "        parameters = {\"symbol\": symbol}\n",
    "        r = self.session.get(url, params=parameters)\n",
    "        data = r.json()[\"data\"]\n",
    "        # dictionary to dataframe\n",
    "        df = pd.DataFrame.from_dict(data, orient=\"index\", columns=[symbol])\n",
    "        return df\n",
    "    \n",
    "    def get24hrStats(self, symbol):\n",
    "        url = self.apiurl + \"/api/v1/market/stats\"\n",
    "        parameters = {\"symbol\": symbol}\n",
    "        r = self.session.get(url, params=parameters)\n",
    "        data = r.json()[\"data\"]\n",
    "        # dictionary to dataframe\n",
    "        df = pd.DataFrame.from_dict(data, orient=\"index\", columns=[symbol])\n",
    "        return df\n",
    "\n",
    "    # returns the order book for a trading pair\n",
    "    def getPartOrderBook(self, symbol, amount):  # does not required API KEY\n",
    "        # amount can be 20 pieces of data or 100 pieces of data\n",
    "        url = self.apiurl + \"/api/v1/market/orderbook/level2_\" + amount\n",
    "        parameters = {\"symbol\": symbol, \"amount\": amount}\n",
    "        r = self.session.get(url, params=parameters)\n",
    "        bids = r.json()[\"data\"][\"bids\"]\n",
    "        asks = r.json()[\"data\"][\"asks\"]\n",
    "        dfBids = pd.DataFrame.from_dict(bids, orient=\"columns\")\n",
    "        dfAsks = pd.DataFrame.from_dict(asks, orient=\"columns\")\n",
    "        dfAsks.columns = [\"\", \"Asks\"]\n",
    "        dfBids.columns = [\"\", \"Bids\"]\n",
    "        return dfBids, dfAsks\n",
    "\n",
    "    # returns the fiat price of a symbol\n",
    "    def getFiatPrice(self, symbol):\n",
    "        url = self.apiurl + \"/api/v1/prices\"\n",
    "        parameters = {\"symbol\": symbol}\n",
    "        r = self.session.get(url, params=parameters)\n",
    "        data = r.json()[\"data\"][symbol]\n",
    "        return data"
   ]
  },
  {
   "cell_type": "code",
   "execution_count": 2,
   "id": "1003652f",
   "metadata": {},
   "outputs": [
    {
     "ename": "NameError",
     "evalue": "name 'MarketData' is not defined",
     "output_type": "error",
     "traceback": [
      "\u001b[0;31m---------------------------------------------------------------------------\u001b[0m",
      "\u001b[0;31mNameError\u001b[0m                                 Traceback (most recent call last)",
      "Input \u001b[0;32mIn [2]\u001b[0m, in \u001b[0;36m<cell line: 1>\u001b[0;34m()\u001b[0m\n\u001b[0;32m----> 1\u001b[0m kucoinAPI \u001b[38;5;241m=\u001b[39m \u001b[43mMarketData\u001b[49m()\n",
      "\u001b[0;31mNameError\u001b[0m: name 'MarketData' is not defined"
     ]
    }
   ],
   "source": [
    "kucoinAPI = MarketData()"
   ]
  },
  {
   "cell_type": "code",
   "execution_count": 3,
   "id": "a9f33c75",
   "metadata": {},
   "outputs": [
    {
     "ename": "NameError",
     "evalue": "name 'kucoinAPI' is not defined",
     "output_type": "error",
     "traceback": [
      "\u001b[0;31m---------------------------------------------------------------------------\u001b[0m",
      "\u001b[0;31mNameError\u001b[0m                                 Traceback (most recent call last)",
      "Input \u001b[0;32mIn [3]\u001b[0m, in \u001b[0;36m<cell line: 1>\u001b[0;34m()\u001b[0m\n\u001b[0;32m----> 1\u001b[0m \u001b[43mkucoinAPI\u001b[49m\u001b[38;5;241m.\u001b[39mgetAllTickers()\n",
      "\u001b[0;31mNameError\u001b[0m: name 'kucoinAPI' is not defined"
     ]
    }
   ],
   "source": [
    "kucoinAPI.getAllTickers()"
   ]
  },
  {
   "cell_type": "code",
   "execution_count": 4,
   "id": "d31ef037",
   "metadata": {},
   "outputs": [
    {
     "ename": "NameError",
     "evalue": "name 'kucoinAPI' is not defined",
     "output_type": "error",
     "traceback": [
      "\u001b[0;31m---------------------------------------------------------------------------\u001b[0m",
      "\u001b[0;31mNameError\u001b[0m                                 Traceback (most recent call last)",
      "Input \u001b[0;32mIn [4]\u001b[0m, in \u001b[0;36m<cell line: 1>\u001b[0;34m()\u001b[0m\n\u001b[0;32m----> 1\u001b[0m \u001b[43mkucoinAPI\u001b[49m\u001b[38;5;241m.\u001b[39mgetTicker(\u001b[38;5;124m'\u001b[39m\u001b[38;5;124mETH-USDT\u001b[39m\u001b[38;5;124m'\u001b[39m)\n",
      "\u001b[0;31mNameError\u001b[0m: name 'kucoinAPI' is not defined"
     ]
    }
   ],
   "source": [
    "kucoinAPI.getTicker('ETH-USDT')"
   ]
  },
  {
   "cell_type": "code",
   "execution_count": 5,
   "id": "1a218d22",
   "metadata": {},
   "outputs": [
    {
     "ename": "NameError",
     "evalue": "name 'kucoinAPI' is not defined",
     "output_type": "error",
     "traceback": [
      "\u001b[0;31m---------------------------------------------------------------------------\u001b[0m",
      "\u001b[0;31mNameError\u001b[0m                                 Traceback (most recent call last)",
      "Input \u001b[0;32mIn [5]\u001b[0m, in \u001b[0;36m<cell line: 1>\u001b[0;34m()\u001b[0m\n\u001b[0;32m----> 1\u001b[0m \u001b[43mkucoinAPI\u001b[49m\u001b[38;5;241m.\u001b[39mgetPartOrderBook(\u001b[38;5;124m'\u001b[39m\u001b[38;5;124mETH-USDT\u001b[39m\u001b[38;5;124m'\u001b[39m, \u001b[38;5;124m'\u001b[39m\u001b[38;5;124m20\u001b[39m\u001b[38;5;124m'\u001b[39m)\n",
      "\u001b[0;31mNameError\u001b[0m: name 'kucoinAPI' is not defined"
     ]
    }
   ],
   "source": [
    "kucoinAPI.getPartOrderBook('ETH-USDT', '20')"
   ]
  },
  {
   "cell_type": "code",
   "execution_count": 6,
   "id": "ae4657db",
   "metadata": {},
   "outputs": [
    {
     "ename": "NameError",
     "evalue": "name 'kucoinAPI' is not defined",
     "output_type": "error",
     "traceback": [
      "\u001b[0;31m---------------------------------------------------------------------------\u001b[0m",
      "\u001b[0;31mNameError\u001b[0m                                 Traceback (most recent call last)",
      "Input \u001b[0;32mIn [6]\u001b[0m, in \u001b[0;36m<cell line: 1>\u001b[0;34m()\u001b[0m\n\u001b[0;32m----> 1\u001b[0m \u001b[43mkucoinAPI\u001b[49m\u001b[38;5;241m.\u001b[39mgetFiatPrice(\u001b[38;5;124m'\u001b[39m\u001b[38;5;124mICP\u001b[39m\u001b[38;5;124m'\u001b[39m)\n",
      "\u001b[0;31mNameError\u001b[0m: name 'kucoinAPI' is not defined"
     ]
    }
   ],
   "source": [
    "kucoinAPI.getFiatPrice('ICP')"
   ]
  },
  {
   "cell_type": "code",
   "execution_count": 7,
   "id": "f64af129",
   "metadata": {},
   "outputs": [
    {
     "ename": "NameError",
     "evalue": "name 'kucoinAPI' is not defined",
     "output_type": "error",
     "traceback": [
      "\u001b[0;31m---------------------------------------------------------------------------\u001b[0m",
      "\u001b[0;31mNameError\u001b[0m                                 Traceback (most recent call last)",
      "Input \u001b[0;32mIn [7]\u001b[0m, in \u001b[0;36m<cell line: 1>\u001b[0;34m()\u001b[0m\n\u001b[0;32m----> 1\u001b[0m \u001b[43mkucoinAPI\u001b[49m\u001b[38;5;241m.\u001b[39mget24hrStats(\u001b[38;5;124m'\u001b[39m\u001b[38;5;124mICP-USDT\u001b[39m\u001b[38;5;124m'\u001b[39m)\n",
      "\u001b[0;31mNameError\u001b[0m: name 'kucoinAPI' is not defined"
     ]
    }
   ],
   "source": [
    "kucoinAPI.get24hrStats('ICP-USDT')"
   ]
  },
  {
   "cell_type": "code",
   "execution_count": null,
   "id": "2bf4a524",
   "metadata": {},
   "outputs": [],
   "source": []
  },
  {
   "cell_type": "code",
   "execution_count": null,
   "id": "61faa108",
   "metadata": {},
   "outputs": [],
   "source": []
  },
  {
   "cell_type": "code",
   "execution_count": null,
   "id": "3c87c023",
   "metadata": {},
   "outputs": [],
   "source": []
  },
  {
   "cell_type": "code",
   "execution_count": null,
   "id": "518f61bb",
   "metadata": {},
   "outputs": [],
   "source": []
  },
  {
   "cell_type": "code",
   "execution_count": null,
   "id": "7e208f44",
   "metadata": {},
   "outputs": [],
   "source": []
  },
  {
   "cell_type": "code",
   "execution_count": null,
   "id": "ffcff8f1",
   "metadata": {},
   "outputs": [],
   "source": []
  },
  {
   "cell_type": "code",
   "execution_count": null,
   "id": "46e0c129",
   "metadata": {},
   "outputs": [],
   "source": []
  },
  {
   "cell_type": "code",
   "execution_count": null,
   "id": "abe352e4",
   "metadata": {},
   "outputs": [],
   "source": []
  }
 ],
 "metadata": {
  "kernelspec": {
   "display_name": "Python 3 (ipykernel)",
   "language": "python",
   "name": "python3"
  },
  "language_info": {
   "codemirror_mode": {
    "name": "ipython",
    "version": 3
   },
   "file_extension": ".py",
   "mimetype": "text/x-python",
   "name": "python",
   "nbconvert_exporter": "python",
   "pygments_lexer": "ipython3",
   "version": "3.9.12"
  }
 },
 "nbformat": 4,
 "nbformat_minor": 5
}
