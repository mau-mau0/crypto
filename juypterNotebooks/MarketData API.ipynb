{
 "cells": [
  {
   "cell_type": "code",
   "execution_count": 15,
   "id": "7cb19c26",
   "metadata": {},
   "outputs": [],
   "source": [
    "import requests\n",
    "from requests import Session\n",
    "import pandas as pd"
   ]
  },
  {
   "cell_type": "code",
   "execution_count": 338,
   "id": "dffc599f",
   "metadata": {},
   "outputs": [],
   "source": [
    "class MarketData:\n",
    "    # https://docs.kucoin.com/ - API Documentaion\n",
    "\n",
    "    def __init__(self):\n",
    "        self.apiurl = \"https://api.kucoin.com\"  # base url for kucoin\n",
    "        # self.headers = {\n",
    "        #     \"KC-API-SIGN\": signature,\n",
    "        #     \"KC-API-TIMESTAMP\": str(now),\n",
    "        #     \"KC-API-KEY\": api_key,\n",
    "        #     \"KC-API-PASSPHRASE\": passphrase,\n",
    "        #     \"KC-API-KEY-VERSION\": \"2\",\n",
    "        # }\n",
    "        self.session = Session()\n",
    "\n",
    "    # returns all tickers\n",
    "    def getAllTickers(self):\n",
    "        url = self.apiurl + \"/api/v1/market/allTickers\"\n",
    "        r = self.session.get(url)\n",
    "        data = r.json()[\"data\"][\"ticker\"]\n",
    "        df = pd.DataFrame.from_dict(data, orient=\"columns\")\n",
    "        return df.loc[\n",
    "            :,\n",
    "            [\n",
    "                \"symbolName\",\n",
    "                \"buy\",\n",
    "                \"sell\",\n",
    "                \"changeRate\",\n",
    "                \"changePrice\",\n",
    "                \"high\",\n",
    "                \"low\",\n",
    "                \"vol\",\n",
    "                \"last\",\n",
    "                \"averagePrice\",\n",
    "            ],\n",
    "        ]\n",
    "\n",
    "    # returns a single trading pair ex. 'BTC-USDT'\n",
    "    def getTicker(self, symbol):\n",
    "        url = self.apiurl + \"/api/v1/market/orderbook/level1\"\n",
    "        parameters = {\"symbol\": symbol}\n",
    "        r = self.session.get(url, params=parameters)\n",
    "        data = r.json()[\"data\"]\n",
    "        # dictionary to dataframe\n",
    "        df = pd.DataFrame.from_dict(data, orient=\"index\", columns=[symbol])\n",
    "        return df\n",
    "\n",
    "    # returns the order book for a trading pair\n",
    "    def getPartOrderBook(self, symbol, amount):  # does not required API KEY\n",
    "        # amount can be 20 pieces of data or 100 pieces of data\n",
    "        url = self.apiurl + \"/api/v1/market/orderbook/level2_\" + amount\n",
    "        parameters = {\"symbol\": symbol, \"amount\": amount}\n",
    "        r = self.session.get(url, params=parameters)\n",
    "        bids = r.json()[\"data\"][\"bids\"]\n",
    "        asks = r.json()[\"data\"][\"asks\"]\n",
    "        dfBids = pd.DataFrame.from_dict(bids, orient=\"columns\")\n",
    "        dfAsks = pd.DataFrame.from_dict(asks, orient=\"columns\")\n",
    "        dfAsks.columns = [\"\", \"Asks\"]\n",
    "        dfBids.columns = [\"\", \"Bids\"]\n",
    "        return dfBids, dfAsks\n",
    "\n",
    "    # returns the full order book for a trading pair\n",
    "    def getFullOrderBook(self, symbol):  # needs headers and API key\n",
    "        url = self.apiurl + \"/api/v3/market/orderbook/level2\"\n",
    "        parameters = {\"symbol\": symbol}\n",
    "        r = self.session.get(url, params=parameters)\n",
    "        data = r.json()\n",
    "        return data\n",
    "\n",
    "    # returns the fiat price of a symbol\n",
    "    def getFiatPrice(self, symbol):\n",
    "        url = self.apiurl + \"/api/v1/prices\"\n",
    "        parameters = {\"symbol\": symbol}\n",
    "        r = self.session.get(url, params=parameters)\n",
    "        data = r.json()[\"data\"][symbol]\n",
    "        return data"
   ]
  },
  {
   "cell_type": "code",
   "execution_count": 339,
   "id": "1003652f",
   "metadata": {},
   "outputs": [],
   "source": [
    "kucoinAPI = MarketData()"
   ]
  },
  {
   "cell_type": "code",
   "execution_count": 340,
   "id": "a9f33c75",
   "metadata": {},
   "outputs": [],
   "source": [
    "# kucoinAPI.getAllTickers()"
   ]
  },
  {
   "cell_type": "code",
   "execution_count": 341,
   "id": "d31ef037",
   "metadata": {},
   "outputs": [
    {
     "data": {
      "text/html": [
       "<div>\n",
       "<style scoped>\n",
       "    .dataframe tbody tr th:only-of-type {\n",
       "        vertical-align: middle;\n",
       "    }\n",
       "\n",
       "    .dataframe tbody tr th {\n",
       "        vertical-align: top;\n",
       "    }\n",
       "\n",
       "    .dataframe thead th {\n",
       "        text-align: right;\n",
       "    }\n",
       "</style>\n",
       "<table border=\"1\" class=\"dataframe\">\n",
       "  <thead>\n",
       "    <tr style=\"text-align: right;\">\n",
       "      <th></th>\n",
       "      <th>ETH-USDT</th>\n",
       "    </tr>\n",
       "  </thead>\n",
       "  <tbody>\n",
       "    <tr>\n",
       "      <th>time</th>\n",
       "      <td>1653279170647</td>\n",
       "    </tr>\n",
       "    <tr>\n",
       "      <th>sequence</th>\n",
       "      <td>1628191978550</td>\n",
       "    </tr>\n",
       "    <tr>\n",
       "      <th>price</th>\n",
       "      <td>2036.31</td>\n",
       "    </tr>\n",
       "    <tr>\n",
       "      <th>size</th>\n",
       "      <td>0.0032153</td>\n",
       "    </tr>\n",
       "    <tr>\n",
       "      <th>bestBid</th>\n",
       "      <td>2036.31</td>\n",
       "    </tr>\n",
       "    <tr>\n",
       "      <th>bestBidSize</th>\n",
       "      <td>3.668676</td>\n",
       "    </tr>\n",
       "    <tr>\n",
       "      <th>bestAsk</th>\n",
       "      <td>2036.32</td>\n",
       "    </tr>\n",
       "    <tr>\n",
       "      <th>bestAskSize</th>\n",
       "      <td>13.4844</td>\n",
       "    </tr>\n",
       "  </tbody>\n",
       "</table>\n",
       "</div>"
      ],
      "text/plain": [
       "                  ETH-USDT\n",
       "time         1653279170647\n",
       "sequence     1628191978550\n",
       "price              2036.31\n",
       "size             0.0032153\n",
       "bestBid            2036.31\n",
       "bestBidSize       3.668676\n",
       "bestAsk            2036.32\n",
       "bestAskSize        13.4844"
      ]
     },
     "execution_count": 341,
     "metadata": {},
     "output_type": "execute_result"
    }
   ],
   "source": [
    "kucoinAPI.getTicker('ETH-USDT')"
   ]
  },
  {
   "cell_type": "code",
   "execution_count": 342,
   "id": "1a218d22",
   "metadata": {},
   "outputs": [
    {
     "data": {
      "text/plain": [
       "(                   Bids\n",
       " 0   2036.31    3.668676\n",
       " 1    2036.3   0.0891103\n",
       " 2   2036.29      7.5067\n",
       " 3   2036.06    7.170894\n",
       " 4   2036.04  13.0779749\n",
       " 5   2036.01   5.5812706\n",
       " 6      2036   0.5877738\n",
       " 7   2035.99  21.3887366\n",
       " 8   2035.98   5.6404538\n",
       " 9   2035.97   5.6475701\n",
       " 10  2035.94   1.9915141\n",
       " 11  2035.91   3.0471046\n",
       " 12  2035.79   0.5999999\n",
       " 13  2035.59         0.1\n",
       " 14  2035.55   0.2678657\n",
       " 15  2035.47   0.0361107\n",
       " 16  2035.46     0.90378\n",
       " 17  2035.44     0.90378\n",
       " 18  2035.42   4.1586549\n",
       " 19  2035.39   1.0247859,\n",
       "                   Asks\n",
       " 0   2036.32    13.4844\n",
       " 1   2036.38  0.1229127\n",
       " 2   2036.39  2.7460581\n",
       " 3   2036.43  0.0005931\n",
       " 4   2036.48        1.5\n",
       " 5   2036.49  2.1891952\n",
       " 6    2036.5  4.0067938\n",
       " 7   2036.58     0.0018\n",
       " 8   2036.63  2.6604464\n",
       " 9   2036.65  7.2556614\n",
       " 10  2036.66  3.2372549\n",
       " 11  2036.67  5.2525617\n",
       " 12  2036.68    2.41034\n",
       " 13  2036.72  0.0023999\n",
       " 14  2036.74  0.2458188\n",
       " 15  2036.76  2.3077171\n",
       " 16  2036.82  0.1344317\n",
       " 17  2036.83  9.6431085\n",
       " 18  2036.84     7.5067\n",
       " 19  2036.86  5.8259518)"
      ]
     },
     "execution_count": 342,
     "metadata": {},
     "output_type": "execute_result"
    }
   ],
   "source": [
    "kucoinAPI.getPartOrderBook('ETH-USDT', '20')"
   ]
  },
  {
   "cell_type": "code",
   "execution_count": 344,
   "id": "ae4657db",
   "metadata": {},
   "outputs": [
    {
     "data": {
      "text/plain": [
       "'2033.96042023'"
      ]
     },
     "execution_count": 344,
     "metadata": {},
     "output_type": "execute_result"
    }
   ],
   "source": [
    "kucoinAPI.getFiatPrice('CO')"
   ]
  },
  {
   "cell_type": "code",
   "execution_count": null,
   "id": "f64af129",
   "metadata": {},
   "outputs": [],
   "source": []
  },
  {
   "cell_type": "code",
   "execution_count": null,
   "id": "55f9f2ff",
   "metadata": {},
   "outputs": [],
   "source": []
  },
  {
   "cell_type": "code",
   "execution_count": null,
   "id": "2fa0611b",
   "metadata": {},
   "outputs": [],
   "source": []
  },
  {
   "cell_type": "code",
   "execution_count": null,
   "id": "36ccbf42",
   "metadata": {},
   "outputs": [],
   "source": []
  },
  {
   "cell_type": "code",
   "execution_count": null,
   "id": "82dc35a8",
   "metadata": {},
   "outputs": [],
   "source": []
  }
 ],
 "metadata": {
  "kernelspec": {
   "display_name": "Python 3 (ipykernel)",
   "language": "python",
   "name": "python3"
  },
  "language_info": {
   "codemirror_mode": {
    "name": "ipython",
    "version": 3
   },
   "file_extension": ".py",
   "mimetype": "text/x-python",
   "name": "python",
   "nbconvert_exporter": "python",
   "pygments_lexer": "ipython3",
   "version": "3.9.12"
  }
 },
 "nbformat": 4,
 "nbformat_minor": 5
}
