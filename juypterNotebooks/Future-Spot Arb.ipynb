{
 "cells": [
  {
   "cell_type": "code",
   "execution_count": 1,
   "id": "75ecd7e4",
   "metadata": {},
   "outputs": [],
   "source": [
    "# Unable to short spot "
   ]
  },
  {
   "cell_type": "code",
   "execution_count": 2,
   "id": "977b1b2d",
   "metadata": {},
   "outputs": [],
   "source": [
    "import json\n",
    "import requests\n",
    "import websockets\n",
    "from requests import Session\n",
    "import pandas as pd\n",
    "import time\n",
    "import hashlib\n",
    "import hmac\n",
    "import base64\n",
    "import sys\n",
    "import numpy as np\n",
    "inf = sys.maxsize"
   ]
  },
  {
   "cell_type": "code",
   "execution_count": 20,
   "id": "98c495a2",
   "metadata": {},
   "outputs": [
    {
     "name": "stdout",
     "output_type": "stream",
     "text": [
      "9223372036854775807\n"
     ]
    }
   ],
   "source": [
    "print(inf)"
   ]
  },
  {
   "cell_type": "code",
   "execution_count": 3,
   "id": "51ec7980",
   "metadata": {},
   "outputs": [],
   "source": [
    "spotdf = pd.DataFrame()\n",
    "\n",
    "\n",
    "futuredf = pd.DataFrame()\n"
   ]
  },
  {
   "cell_type": "code",
   "execution_count": 4,
   "id": "a4f440d7",
   "metadata": {},
   "outputs": [
    {
     "data": {
      "text/html": [
       "<div>\n",
       "<style scoped>\n",
       "    .dataframe tbody tr th:only-of-type {\n",
       "        vertical-align: middle;\n",
       "    }\n",
       "\n",
       "    .dataframe tbody tr th {\n",
       "        vertical-align: top;\n",
       "    }\n",
       "\n",
       "    .dataframe thead th {\n",
       "        text-align: right;\n",
       "    }\n",
       "</style>\n",
       "<table border=\"1\" class=\"dataframe\">\n",
       "  <thead>\n",
       "    <tr style=\"text-align: right;\">\n",
       "      <th></th>\n",
       "      <th>Spot</th>\n",
       "    </tr>\n",
       "  </thead>\n",
       "  <tbody>\n",
       "    <tr>\n",
       "      <th>0</th>\n",
       "      <td>10</td>\n",
       "    </tr>\n",
       "  </tbody>\n",
       "</table>\n",
       "</div>"
      ],
      "text/plain": [
       "   Spot\n",
       "0    10"
      ]
     },
     "execution_count": 4,
     "metadata": {},
     "output_type": "execute_result"
    }
   ],
   "source": [
    "df_new_row = pd.DataFrame(data=np.array([[10]]), columns=['Spot'])\n",
    "spotdf = pd.concat([spotdf,df_new_row], ignore_index=True)\n",
    "\n",
    "spotdf"
   ]
  },
  {
   "cell_type": "code",
   "execution_count": 5,
   "id": "100eb28a",
   "metadata": {},
   "outputs": [
    {
     "data": {
      "text/html": [
       "<div>\n",
       "<style scoped>\n",
       "    .dataframe tbody tr th:only-of-type {\n",
       "        vertical-align: middle;\n",
       "    }\n",
       "\n",
       "    .dataframe tbody tr th {\n",
       "        vertical-align: top;\n",
       "    }\n",
       "\n",
       "    .dataframe thead th {\n",
       "        text-align: right;\n",
       "    }\n",
       "</style>\n",
       "<table border=\"1\" class=\"dataframe\">\n",
       "  <thead>\n",
       "    <tr style=\"text-align: right;\">\n",
       "      <th></th>\n",
       "      <th>Future</th>\n",
       "    </tr>\n",
       "  </thead>\n",
       "  <tbody>\n",
       "    <tr>\n",
       "      <th>0</th>\n",
       "      <td>20</td>\n",
       "    </tr>\n",
       "  </tbody>\n",
       "</table>\n",
       "</div>"
      ],
      "text/plain": [
       "   Future\n",
       "0      20"
      ]
     },
     "execution_count": 5,
     "metadata": {},
     "output_type": "execute_result"
    }
   ],
   "source": [
    "df_new_row = pd.DataFrame(data=np.array([[20]]), columns=['Future'])\n",
    "futuredf = pd.concat([futuredf,df_new_row], ignore_index=True)\n",
    "\n",
    "futuredf"
   ]
  },
  {
   "cell_type": "code",
   "execution_count": 6,
   "id": "e27a08e9",
   "metadata": {},
   "outputs": [
    {
     "name": "stdout",
     "output_type": "stream",
     "text": [
      "   Spot  Future\n",
      "0  10.0     NaN\n",
      "0   NaN    20.0\n"
     ]
    }
   ],
   "source": [
    "df = pd.concat([spotdf, futuredf])\n",
    "\n",
    "print(df)"
   ]
  },
  {
   "cell_type": "markdown",
   "id": "c3d6756c",
   "metadata": {},
   "source": [
    "# For Websocket"
   ]
  },
  {
   "cell_type": "code",
   "execution_count": 7,
   "id": "774f0e9e",
   "metadata": {},
   "outputs": [],
   "source": [
    "url = 'https://api.kucoin.com/api/v1/bullet-public'"
   ]
  },
  {
   "cell_type": "code",
   "execution_count": 8,
   "id": "69e1abd8",
   "metadata": {},
   "outputs": [],
   "source": [
    "x = requests.post(url)"
   ]
  },
  {
   "cell_type": "code",
   "execution_count": 9,
   "id": "72c500ca",
   "metadata": {},
   "outputs": [],
   "source": [
    "cjson = json.loads(x.text)"
   ]
  },
  {
   "cell_type": "code",
   "execution_count": 10,
   "id": "36674312",
   "metadata": {},
   "outputs": [],
   "source": [
    "endpoint = cjson['data']['instanceServers'][0]['endpoint']\n",
    "token = cjson['data']['token']"
   ]
  },
  {
   "cell_type": "code",
   "execution_count": 11,
   "id": "0f5eccb5",
   "metadata": {},
   "outputs": [],
   "source": [
    "multi = {\"id\": \"1Jpg30DEdU\", \"type\": \"openTunnel\", \"newTunnelId\": \"bt1\", \"response\": False}\n",
    "# command used to open tunnel"
   ]
  },
  {
   "cell_type": "code",
   "execution_count": 12,
   "id": "a4f8c703",
   "metadata": {},
   "outputs": [],
   "source": [
    "multi_spotEth = {\"id\": \"1JpoPamgFM\",\n",
    "             \"type\": \"subscribe\",\n",
    "             \"topic\": \"/market/ticker:ETH-USDT\",\n",
    "             \"tunnelId\": \"bt1\", \"response\": False}\n",
    "# subscriptions to websocket with tunnelID attached"
   ]
  },
  {
   "cell_type": "code",
   "execution_count": 13,
   "id": "c4ae047d",
   "metadata": {},
   "outputs": [],
   "source": [
    "multi_futureEth = {\"id\": 1545910660740,                          \n",
    "                \"type\": \"subscribe\",\n",
    "                \"topic\": \"/contractMarket/tickerV2:ETHUSDTM\",\n",
    "                \"tunnelId\": \"bt1\", \"response\": False}\n",
    "# subscriptions to websocket with tunnelID attached"
   ]
  },
  {
   "cell_type": "markdown",
   "id": "e5e55b2a",
   "metadata": {},
   "source": [
    "# Trade Code"
   ]
  },
  {
   "cell_type": "markdown",
   "id": "5c964a2c",
   "metadata": {},
   "source": [
    "#### NOTE: Can only take advantage of Longing Spot and Shorting Future"
   ]
  },
  {
   "cell_type": "code",
   "execution_count": 14,
   "id": "8face79d",
   "metadata": {},
   "outputs": [],
   "source": [
    "import sys\n",
    "sys.path.append('..')\n",
    "import classified\n",
    "\n",
    "# for future api\n",
    "fapi_passphrase = classified.FPASSPHRASE\n",
    "fapi_key = classified.FKEY\n",
    "fapi_secret = classified.FSECRET\n",
    "# for spot api\n",
    "api_passphrase = classified.SPASSPHRASE\n",
    "api_key = classified.SKEY\n",
    "api_secret = classified.SSECRET\n",
    "\n",
    "session = Session()"
   ]
  },
  {
   "cell_type": "code",
   "execution_count": 15,
   "id": "db2e4aec",
   "metadata": {},
   "outputs": [],
   "source": [
    "def auth(method, endpoint):\n",
    "    now = int(time.time() * 1000)\n",
    "    str_to_sign = str(now) + method.upper() + endpoint\n",
    "    signature = base64.b64encode(\n",
    "        hmac.new(api_secret.encode('utf-8'), str_to_sign.encode('utf-8'), hashlib.sha256).digest())\n",
    "    passphrase = base64.b64encode(hmac.new(api_secret.encode('utf-8'), api_passphrase.encode('utf-8'), hashlib.sha256).digest())\n",
    "    headers = {\n",
    "        \"KC-API-SIGN\": signature,\n",
    "        \"KC-API-TIMESTAMP\": str(now),\n",
    "        \"KC-API-KEY\": api_key,\n",
    "        \"KC-API-PASSPHRASE\": passphrase,\n",
    "        \"KC-API-KEY-VERSION\": '2',\n",
    "        \"Content-Type\": \"application/json\"\n",
    "    }\n",
    "    return headers"
   ]
  },
  {
   "cell_type": "code",
   "execution_count": 16,
   "id": "9dcce956",
   "metadata": {},
   "outputs": [],
   "source": [
    "class executeTrade:\n",
    "    \n",
    "    def spotOrder(self, side, symbol, price, size):\n",
    "        url = 'https://api.kucoin.com/api/v1/orders'\n",
    "        now = int(time.time() * 1000)\n",
    "        data = {\"clientOid\": \"01\", \"side\": side, \"symbol\": symbol, \"price\": price,\"size\": size}\n",
    "        data_json = json.dumps(data)\n",
    "        str_to_sign = str(now) + 'POST' + '/api/v1/orders' + data_json\n",
    "        signature = base64.b64encode(\n",
    "            hmac.new(api_secret.encode('utf-8'), str_to_sign.encode('utf-8'), hashlib.sha256).digest())\n",
    "        passphrase = base64.b64encode(\n",
    "            hmac.new(api_secret.encode('utf-8'), api_passphrase.encode('utf-8'), hashlib.sha256).digest())\n",
    "        headers = {\n",
    "            \"KC-API-SIGN\": signature,\n",
    "            \"KC-API-TIMESTAMP\": str(now),\n",
    "            \"KC-API-KEY\": api_key,\n",
    "            \"KC-API-PASSPHRASE\": passphrase,\n",
    "            \"KC-API-KEY-VERSION\": '2',\n",
    "            \"Content-Type\": \"application/json\" # specifying content type or using json=data in request\n",
    "        }\n",
    "        response = session.post(url, headers=headers, data=data_json)\n",
    "        print(response.status_code)\n",
    "        print(response.json())\n",
    "        \n",
    "    def futureOrder(self, side, symbol, leverage, price, size):\n",
    "        url = 'https://api-futures.kucoin.com/api/v1/orders'\n",
    "        now = int(time.time() * 1000)\n",
    "        data = {\"clientOid\": \"02\", \"side\": side, \"symbol\": symbol, \"leverage\": leverage, \"price\": price,\"size\": size}\n",
    "        data_json = json.dumps(data)\n",
    "        str_to_sign = str(now) + 'POST' + '/api/v1/orders' + data_json\n",
    "        signature = base64.b64encode(\n",
    "            hmac.new(fapi_secret.encode('utf-8'), str_to_sign.encode('utf-8'), hashlib.sha256).digest())\n",
    "        passphrase = base64.b64encode(\n",
    "            hmac.new(fapi_secret.encode('utf-8'), fapi_passphrase.encode('utf-8'), hashlib.sha256).digest())\n",
    "        headers = {\n",
    "            \"KC-API-SIGN\": signature,\n",
    "            \"KC-API-TIMESTAMP\": str(now),\n",
    "            \"KC-API-KEY\": fapi_key,\n",
    "            \"KC-API-PASSPHRASE\": passphrase,\n",
    "            \"KC-API-KEY-VERSION\": '2',\n",
    "            \"Content-Type\": \"application/json\" # specifying content type or using json=data in request\n",
    "        }\n",
    "        response = session.post(url, headers=headers, data=data_json)\n",
    "        print(response.status_code)\n",
    "        print(response.json())\n",
    "        \n",
    "trade = executeTrade()"
   ]
  },
  {
   "cell_type": "code",
   "execution_count": 17,
   "id": "7ff99dcf",
   "metadata": {},
   "outputs": [],
   "source": [
    "class openClosePostion:\n",
    "    \n",
    "#     def arbOpen(self, spotPrice, futurePrice):\n",
    "#         trade.spotOrder(\"buy\", \"ETH-USDT\", spotPrice, \"0.01\")\n",
    "#         trade.futureOrder(\"sell\", \"ETHUSDTM\", \"1\", futurePrice, \"1\")\n",
    "#         #trade.marekt(\"buy/sell\", \"tradingPair\", \"leverage\", \"limitPrice\", \"size\")\n",
    "    \n",
    "    def arbOpen(self):\n",
    "        trade.spotOrder(\"buy\", \"ETH-USDT\", \"500\", \"0.01\")\n",
    "        trade.futureOrder(\"sell\", \"ETHUSDTM\", \"1\", \"986\", \"1\")\n",
    "        #trade.marekt(\"buy/sell\", \"tradingPair\", \"leverage\", \"limitPrice\", \"size\")\n",
    "        \n",
    "    def arbClose(self):\n",
    "        trade.spotOrder(\"sell\", \"ETH-USDT\", spotPrice, \"0.01\")\n",
    "        trade.futureOrder(\"buy\", \"ETHUSDTM\", \"1\", futurePrice, \"1\")\n",
    "        #trade.marekt(\"buy/sell\", \"tradingPair\", \"leverage\", \"limitPrice\", \"size\")\n",
    "        \n",
    "arb = openClosePostion()"
   ]
  },
  {
   "cell_type": "markdown",
   "id": "b8850a13",
   "metadata": {},
   "source": [
    "# Websocket Code"
   ]
  },
  {
   "cell_type": "code",
   "execution_count": 18,
   "id": "4201d828",
   "metadata": {},
   "outputs": [
    {
     "name": "stdout",
     "output_type": "stream",
     "text": [
      "-1649.45\n",
      "0.9600000000000364\n",
      "0.9600000000000364\n",
      "0.9600000000000364\n",
      "0.9600000000000364\n",
      "0.9600000000000364\n",
      "0.9600000000000364\n",
      "0.9600000000000364\n",
      "0.9600000000000364\n",
      "0.9600000000000364\n"
     ]
    }
   ],
   "source": [
    "async with websockets.connect(endpoint+\"?token=\"+token) as conn:\n",
    "    await conn.send(json.dumps(multi))  # initial open tunel command\n",
    "    res = await conn.recv()\n",
    "    \n",
    "    await conn.send(json.dumps(multi_spotEth)) # send tunnel subscription\n",
    "    res = await conn.recv()\n",
    "    await conn.send(json.dumps(multi_futureEth))  # send tunnel subscription\n",
    "    res = await conn.recv()\n",
    "    \n",
    "    counter = 0\n",
    "    spotPrice = 0\n",
    "    futurePrice = 0\n",
    "    while True and counter < 10:\n",
    "        res = await conn.recv()\n",
    "        vals = json.loads(res)\n",
    "\n",
    "        if (vals['topic']) == '/contractMarket/tickerV2:ETHUSDTM':\n",
    "#             print(f\"Future Price is: {vals['data']['bestAskPrice']}\")\n",
    "            futurePrice = float(vals['data']['bestAskPrice'])\n",
    "\n",
    "        elif (vals['topic']) == '/market/ticker:ETH-USDT':\n",
    "#             print(f\"Spot Price is: {vals['data']['bestAsk']}\")\n",
    "            spotPrice = float(vals['data']['bestAsk'])\n",
    "    \n",
    "        print(spotPrice - futurePrice)\n",
    "        \n",
    "        # OPEN POSTION\n",
    "        if spotPrice - futurePrice > 1 and futurePrice != 0 and spotPrice != 0:\n",
    "            print('Long Future and Short Spot')\n",
    "            \n",
    "        elif futurePrice - spotPrice > 1 and futurePrice != 0 and spotPrice != 0:\n",
    "            print('Long Spot and Short Future')\n",
    "#             arb.arbOpen(spotPrice, futurePrice)\n",
    "            \n",
    "        # CLOSE POSTION\n",
    "#         if spotPrice - futurePrice < 0.1 and futurePrice != 0 and spotPrice != 0:\n",
    "#             print('Long Future and Short Spot')\n",
    "            \n",
    "#         elif futurePrice - spotPrice < 0.1 and futurePrice != 0 and spotPrice != 0:\n",
    "#             print('Long Spot and Short Future')\n",
    "# #             arb.arbOpen(spotPrice, futurePrice)\n",
    "            \n",
    "        counter += 1\n",
    "    eth_tunnel = {\"id\": \"1JpoPamgFM\", \"type\": \"closeTunnel\", \"tunnelId\": \"bt1\", \"response\": False}            \n",
    "    btc_tunnel = {\"id\": \"1JpoPamgFN\", \"type\": \"closeTunnel\", \"tunnelId\": \"bt1\", \"response\": False}\n",
    "    await conn.send(json.dumps(eth_tunnel))\n",
    "    await conn.send(json.dumps(btc_tunnel))\n",
    "    await conn.close()"
   ]
  },
  {
   "cell_type": "code",
   "execution_count": 19,
   "id": "4e3b6397",
   "metadata": {},
   "outputs": [
    {
     "name": "stdout",
     "output_type": "stream",
     "text": [
      "200\n",
      "{'code': '200004', 'msg': 'Balance insufficient!'}\n",
      "429\n",
      "{'code': '429000', 'msg': 'Too Many Requests'}\n"
     ]
    }
   ],
   "source": [
    "arb.arbOpen()"
   ]
  },
  {
   "cell_type": "code",
   "execution_count": null,
   "id": "dbeb118c",
   "metadata": {},
   "outputs": [],
   "source": []
  }
 ],
 "metadata": {
  "kernelspec": {
   "display_name": "Python 3 (ipykernel)",
   "language": "python",
   "name": "python3"
  },
  "language_info": {
   "codemirror_mode": {
    "name": "ipython",
    "version": 3
   },
   "file_extension": ".py",
   "mimetype": "text/x-python",
   "name": "python",
   "nbconvert_exporter": "python",
   "pygments_lexer": "ipython3",
   "version": "3.9.13"
  }
 },
 "nbformat": 4,
 "nbformat_minor": 5
}
