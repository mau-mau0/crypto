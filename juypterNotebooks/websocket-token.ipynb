{
 "cells": [
  {
   "cell_type": "code",
   "execution_count": 4,
   "id": "0efab2d3",
   "metadata": {},
   "outputs": [],
   "source": [
    "import pandas as pd\n",
    "import requests\n",
    "from pprint import pprint as pp"
   ]
  },
  {
   "cell_type": "code",
   "execution_count": 5,
   "id": "51c99872",
   "metadata": {},
   "outputs": [],
   "source": [
    "url = \"https://api.kucoin.com\"\n",
    "r = requests.post(url + \"/api/v1/bullet-public\")\n",
    "connect_token = r.json()"
   ]
  },
  {
   "cell_type": "code",
   "execution_count": 6,
   "id": "3be01cba",
   "metadata": {},
   "outputs": [
    {
     "name": "stdout",
     "output_type": "stream",
     "text": [
      "{'code': '200000',\n",
      " 'data': {'instanceServers': [{'encrypt': True,\n",
      "                               'endpoint': 'wss://ws-api.kucoin.com/endpoint',\n",
      "                               'pingInterval': 18000,\n",
      "                               'pingTimeout': 10000,\n",
      "                               'protocol': 'websocket'}],\n",
      "          'token': '2neAiuYvAU61ZDXANAGAsiL4-iAExhsBXZxftpOeh_55i3Ysy2q2LEsEWU64mdzUOPusi34M_wGoSf7iNyEWJzUMTsni8iy__qURhouO342z2IvXb-1hwdiYB9J6i9GjsxUuhPw3BlrzazF6ghq4L-kKKsJexTI0qgwIE9PliuU=.6ve0FH5s7erQALuH48G72g=='}}\n"
     ]
    }
   ],
   "source": [
    "pp(connect_token)"
   ]
  },
  {
   "cell_type": "code",
   "execution_count": null,
   "id": "c8d31c0c",
   "metadata": {},
   "outputs": [],
   "source": [
    "# wss://push1-v2.kucoin.com/endpoint?token=xxx&[connectId=xxxxx]"
   ]
  },
  {
   "cell_type": "code",
   "execution_count": null,
   "id": "92d015e8",
   "metadata": {},
   "outputs": [],
   "source": []
  }
 ],
 "metadata": {
  "interpreter": {
   "hash": "11938c6bc6919ae2720b4d5011047913343b08a43b18698fd82dedb0d4417594"
  },
  "kernelspec": {
   "display_name": "Python 3 (ipykernel)",
   "language": "python",
   "name": "python3"
  },
  "language_info": {
   "codemirror_mode": {
    "name": "ipython",
    "version": 3
   },
   "file_extension": ".py",
   "mimetype": "text/x-python",
   "name": "python",
   "nbconvert_exporter": "python",
   "pygments_lexer": "ipython3",
   "version": "3.9.13"
  }
 },
 "nbformat": 4,
 "nbformat_minor": 5
}
