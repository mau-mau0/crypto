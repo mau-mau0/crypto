{
 "cells": [
  {
   "cell_type": "code",
   "execution_count": 9,
   "id": "1e5c26cd",
   "metadata": {},
   "outputs": [],
   "source": [
    "import asyncio\n",
    "import websockets"
   ]
  },
  {
   "cell_type": "code",
   "execution_count": 10,
   "id": "132014f2",
   "metadata": {},
   "outputs": [],
   "source": [
    "async def hello():\n",
    "    async with websockets.connect(\"wss://ws-api.kucoin.com/endpoint?token=2neAiuYvAU61ZDXANAGAsiL4-iAExhsBXZxftpOeh_55i3Ysy2q2LEsEWU64mdzUOPusi34M_wGoSf7iNyEWJzjQnSVksPaGjL9H66Zyysr7ez6BR34NqNiYB9J6i9GjsxUuhPw3BlrzazF6ghq4L6qYqayfBYzDnbLZRp5oUPM=.tuftgEJaYobjjEeDcMyGhw==\") as websocket:\n",
    "        await websocket.recv()\n",
    "\n",
    "await hello()"
   ]
  },
  {
   "cell_type": "code",
   "execution_count": null,
   "id": "64ddb497",
   "metadata": {},
   "outputs": [],
   "source": []
  },
  {
   "cell_type": "code",
   "execution_count": null,
   "id": "fac5ca56",
   "metadata": {},
   "outputs": [],
   "source": []
  },
  {
   "cell_type": "code",
   "execution_count": null,
   "id": "4a02ac65",
   "metadata": {},
   "outputs": [],
   "source": []
  },
  {
   "cell_type": "code",
   "execution_count": null,
   "id": "1a94aafa",
   "metadata": {},
   "outputs": [],
   "source": []
  }
 ],
 "metadata": {
  "kernelspec": {
   "display_name": "Python 3 (ipykernel)",
   "language": "python",
   "name": "python3"
  },
  "language_info": {
   "codemirror_mode": {
    "name": "ipython",
    "version": 3
   },
   "file_extension": ".py",
   "mimetype": "text/x-python",
   "name": "python",
   "nbconvert_exporter": "python",
   "pygments_lexer": "ipython3",
   "version": "3.9.13"
  }
 },
 "nbformat": 4,
 "nbformat_minor": 5
}
