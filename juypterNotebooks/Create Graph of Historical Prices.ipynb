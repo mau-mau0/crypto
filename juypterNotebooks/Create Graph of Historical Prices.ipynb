{
 "cells": [
  {
   "cell_type": "code",
   "execution_count": 14,
   "id": "79f6f6c2",
   "metadata": {},
   "outputs": [],
   "source": [
    "import json\n",
    "import requests\n",
    "import websockets\n",
    "from requests import Session\n",
    "import time\n",
    "import hashlib\n",
    "import hmac\n",
    "import base64\n",
    "import sys\n",
    "import numpy as np\n",
    "import matplotlib.pyplot as plt\n",
    "inf = sys.maxsize"
   ]
  },
  {
   "cell_type": "markdown",
   "id": "90e4b4e5",
   "metadata": {},
   "source": [
    "# Websocket Connection Setup"
   ]
  },
  {
   "cell_type": "code",
   "execution_count": 15,
   "id": "e329ec49",
   "metadata": {},
   "outputs": [],
   "source": [
    "url = 'https://api.kucoin.com/api/v1/bullet-public'"
   ]
  },
  {
   "cell_type": "code",
   "execution_count": 16,
   "id": "94e7354a",
   "metadata": {},
   "outputs": [],
   "source": [
    "x = requests.post(url)"
   ]
  },
  {
   "cell_type": "code",
   "execution_count": 17,
   "id": "6a58324c",
   "metadata": {},
   "outputs": [],
   "source": [
    "cjson = json.loads(x.text)"
   ]
  },
  {
   "cell_type": "code",
   "execution_count": 18,
   "id": "4f26cdfe",
   "metadata": {},
   "outputs": [],
   "source": [
    "endpoint = cjson['data']['instanceServers'][0]['endpoint']\n",
    "token = cjson['data']['token']"
   ]
  },
  {
   "cell_type": "code",
   "execution_count": 19,
   "id": "7ee26672",
   "metadata": {},
   "outputs": [],
   "source": [
    "multi = {\"id\": \"1Jpg30DEdU\", \"type\": \"openTunnel\", \"newTunnelId\": \"bt1\", \"response\": False}\n",
    "# command used to open tunnel"
   ]
  },
  {
   "cell_type": "code",
   "execution_count": 9,
   "id": "ce8f8fda",
   "metadata": {},
   "outputs": [],
   "source": [
    "multi_spotEth = {\"id\": \"1JpoPamgFM\",\n",
    "             \"type\": \"subscribe\",\n",
    "             \"topic\": \"/market/ticker:ETH-USDT\",\n",
    "             \"tunnelId\": \"bt1\", \"response\": False}\n",
    "# subscriptions to websocket with tunnelID attached"
   ]
  },
  {
   "cell_type": "code",
   "execution_count": 10,
   "id": "09320218",
   "metadata": {},
   "outputs": [],
   "source": [
    "multi_futureEth = {\"id\": 1545910660740,                          \n",
    "                \"type\": \"subscribe\",\n",
    "                \"topic\": \"/contractMarket/tickerV2:ETHUSDTM\",\n",
    "                \"tunnelId\": \"bt1\", \"response\": False}\n",
    "# subscriptions to websocket with tunnelID attached"
   ]
  },
  {
   "cell_type": "code",
   "execution_count": 11,
   "id": "89f040cc",
   "metadata": {},
   "outputs": [],
   "source": [
    "import sys\n",
    "sys.path.append('..')\n",
    "import classified\n",
    "\n",
    "# for future api\n",
    "fapi_passphrase = classified.FPASSPHRASE\n",
    "fapi_key = classified.FKEY\n",
    "fapi_secret = classified.FSECRET\n",
    "# for spot api\n",
    "api_passphrase = classified.SPASSPHRASE\n",
    "api_key = classified.SKEY\n",
    "api_secret = classified.SSECRET\n",
    "\n",
    "session = Session()"
   ]
  },
  {
   "cell_type": "code",
   "execution_count": 12,
   "id": "d16778fe",
   "metadata": {},
   "outputs": [],
   "source": [
    "def auth(method, endpoint):\n",
    "    now = int(time.time() * 1000)\n",
    "    str_to_sign = str(now) + method.upper() + endpoint\n",
    "    signature = base64.b64encode(\n",
    "        hmac.new(api_secret.encode('utf-8'), str_to_sign.encode('utf-8'), hashlib.sha256).digest())\n",
    "    passphrase = base64.b64encode(hmac.new(api_secret.encode('utf-8'), api_passphrase.encode('utf-8'), hashlib.sha256).digest())\n",
    "    headers = {\n",
    "        \"KC-API-SIGN\": signature,\n",
    "        \"KC-API-TIMESTAMP\": str(now),\n",
    "        \"KC-API-KEY\": api_key,\n",
    "        \"KC-API-PASSPHRASE\": passphrase,\n",
    "        \"KC-API-KEY-VERSION\": '2',\n",
    "        \"Content-Type\": \"application/json\"\n",
    "    }\n",
    "    return headers"
   ]
  },
  {
   "cell_type": "markdown",
   "id": "0334a77f",
   "metadata": {},
   "source": [
    "# Sort Data From Websocket"
   ]
  },
  {
   "cell_type": "code",
   "execution_count": 13,
   "id": "53669017",
   "metadata": {},
   "outputs": [
    {
     "ename": "NameError",
     "evalue": "name 'endpoint' is not defined",
     "output_type": "error",
     "traceback": [
      "\u001b[0;31m---------------------------------------------------------------------------\u001b[0m",
      "\u001b[0;31mNameError\u001b[0m                                 Traceback (most recent call last)",
      "Input \u001b[0;32mIn [13]\u001b[0m, in \u001b[0;36m<cell line: 4>\u001b[0;34m()\u001b[0m\n\u001b[1;32m      2\u001b[0m futurePrices \u001b[38;5;241m=\u001b[39m np\u001b[38;5;241m.\u001b[39marray([])\n\u001b[1;32m      3\u001b[0m differences \u001b[38;5;241m=\u001b[39m np\u001b[38;5;241m.\u001b[39marray([])\n\u001b[0;32m----> 4\u001b[0m \u001b[38;5;28;01masync\u001b[39;00m \u001b[38;5;28;01mwith\u001b[39;00m websockets\u001b[38;5;241m.\u001b[39mconnect(endpoint\u001b[38;5;241m+\u001b[39m\u001b[38;5;124m\"\u001b[39m\u001b[38;5;124m?token=\u001b[39m\u001b[38;5;124m\"\u001b[39m\u001b[38;5;241m+\u001b[39mtoken) \u001b[38;5;28;01mas\u001b[39;00m conn:\n\u001b[1;32m      5\u001b[0m     \u001b[38;5;28;01mawait\u001b[39;00m conn\u001b[38;5;241m.\u001b[39msend(json\u001b[38;5;241m.\u001b[39mdumps(multi))  \u001b[38;5;66;03m# initial open tunel command\u001b[39;00m\n\u001b[1;32m      6\u001b[0m     res \u001b[38;5;241m=\u001b[39m \u001b[38;5;28;01mawait\u001b[39;00m conn\u001b[38;5;241m.\u001b[39mrecv()\n",
      "\u001b[0;31mNameError\u001b[0m: name 'endpoint' is not defined"
     ]
    }
   ],
   "source": [
    "spotPrices = np.array([])\n",
    "futurePrices = np.array([])\n",
    "differences = np.array([])\n",
    "async with websockets.connect(endpoint+\"?token=\"+token) as conn:\n",
    "    await conn.send(json.dumps(multi))  # initial open tunel command\n",
    "    res = await conn.recv()\n",
    "    \n",
    "    await conn.send(json.dumps(multi_spotEth)) # send tunnel subscription\n",
    "    res = await conn.recv()\n",
    "    await conn.send(json.dumps(multi_futureEth))  # send tunnel subscription\n",
    "    res = await conn.recv()\n",
    "    \n",
    "    counter = 0\n",
    "    spotPrice = 0\n",
    "    futurePrice = 0\n",
    "    while True and counter < inf:\n",
    "        res = await conn.recv()\n",
    "        vals = json.loads(res)\n",
    "\n",
    "        if (vals['topic']) == '/contractMarket/tickerV2:ETHUSDTM':\n",
    "#             print(f\"Future Price is: {vals['data']['bestAskPrice']}\")\n",
    "            futurePrice = float(vals['data']['bestAskPrice'])\n",
    "            futurePrices.append(futurePrice)\n",
    "\n",
    "        elif (vals['topic']) == '/market/ticker:ETH-USDT':\n",
    "#             print(f\"Spot Price is: {vals['data']['bestAsk']}\")\n",
    "            spotPrice = float(vals['data']['bestAsk'])\n",
    "            spotPrices.append(spotPrice)\n",
    "        \n",
    "        difference = spotPrice - futurePrice\n",
    "        differences.append(difference)\n",
    "        print(spotPrice - futurePrice)\n",
    "        print(counter)\n",
    "        \n",
    "        # OPEN POSTION\n",
    "        if spotPrice - futurePrice > 1 and futurePrice != 0 and spotPrice != 0:\n",
    "            print('Long Future and Short Spot')\n",
    "            \n",
    "        elif futurePrice - spotPrice > 1 and futurePrice != 0 and spotPrice != 0:\n",
    "            print('Long Spot and Short Future')\n",
    "#             arb.arbOpen(spotPrice, futurePrice)\n",
    "            \n",
    "            \n",
    "        counter += 1\n",
    "    eth_tunnel = {\"id\": \"1JpoPamgFM\", \"type\": \"closeTunnel\", \"tunnelId\": \"bt1\", \"response\": False}            \n",
    "    btc_tunnel = {\"id\": \"1JpoPamgFN\", \"type\": \"closeTunnel\", \"tunnelId\": \"bt1\", \"response\": False}\n",
    "    await conn.send(json.dumps(eth_tunnel))\n",
    "    await conn.send(json.dumps(btc_tunnel))\n",
    "    await conn.close()"
   ]
  },
  {
   "cell_type": "code",
   "execution_count": 16,
   "id": "e27e8b7e",
   "metadata": {},
   "outputs": [
    {
     "data": {
      "image/png": "[encoded data removed]",
      "text/plain": [
       "<Figure size 432x288 with 1 Axes>"
      ]
     },
     "metadata": {
      "needs_background": "light"
     },
     "output_type": "display_data"
    }
   ],
   "source": [
    "plt.plot(spotPrices, label=\"spot\")\n",
    "plt.plot(futurePrices, label=\"future\")\n",
    "plt.ylabel('Price')\n",
    "plt.xlabel('Time')\n",
    "plt.legend(loc=\"upper right\")\n",
    "plt.show()"
   ]
  },
  {
   "cell_type": "code",
   "execution_count": 17,
   "id": "337d8c5d",
   "metadata": {},
   "outputs": [],
   "source": [
    "differences = [i for i in differences if i > 0]"
   ]
  },
  {
   "cell_type": "code",
   "execution_count": 18,
   "id": "5edd6e67",
   "metadata": {},
   "outputs": [
    {
     "data": {
      "image/png": "[encoded data removed]",
      "text/plain": [
       "<Figure size 432x288 with 1 Axes>"
      ]
     },
     "metadata": {
      "needs_background": "light"
     },
     "output_type": "display_data"
    }
   ],
   "source": [
    "differences.pop(0)\n",
    "plt.plot(differences, label=\"spread\")\n",
    "plt.axhline(y=0.4, color='orange', linestyle='--', label=\"Consolidation\")\n",
    "plt.axhline(y=2, color='green', linestyle='--', label=\"Target Spread\")\n",
    "plt.ylabel('Price')\n",
    "plt.xlabel('Time')\n",
    "plt.legend(loc=\"lower left\")\n",
    "plt.show()"
   ]
  },
  {
   "cell_type": "code",
   "execution_count": null,
   "id": "10f6b0a8",
   "metadata": {},
   "outputs": [],
   "source": []
  }
 ],
 "metadata": {
  "kernelspec": {
   "display_name": "Python 3 (ipykernel)",
   "language": "python",
   "name": "python3"
  },
  "language_info": {
   "codemirror_mode": {
    "name": "ipython",
    "version": 3
   },
   "file_extension": ".py",
   "mimetype": "text/x-python",
   "name": "python",
   "nbconvert_exporter": "python",
   "pygments_lexer": "ipython3",
   "version": "3.9.13"
  }
 },
 "nbformat": 4,
 "nbformat_minor": 5
}
