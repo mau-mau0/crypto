{
 "cells": [
  {
   "cell_type": "code",
   "execution_count": 1,
   "id": "e02cbf72",
   "metadata": {},
   "outputs": [],
   "source": [
    "import sys"
   ]
  },
  {
   "cell_type": "code",
   "execution_count": 44,
   "id": "e51867fc",
   "metadata": {},
   "outputs": [],
   "source": [
    "def bellmanFord(graph, src, dest):\n",
    "    inf = sys.maxsize\n",
    "    node_data = {\n",
    "        'A':{'cost': inf, 'pred': []},\n",
    "        'B':{'cost': inf, 'pred': []},\n",
    "        'C':{'cost': inf, 'pred': []},\n",
    "        'D':{'cost': inf, 'pred': []},\n",
    "        'E':{'cost': inf, 'pred': []},\n",
    "        'F':{'cost': inf, 'pred': []}\n",
    "    }\n",
    "    node_data[src]['cost'] = 0\n",
    "    for i in range(5):\n",
    "        print(f'Iteration {i}:')\n",
    "        for itr in graph:\n",
    "              for neighbor in graph[itr]:\n",
    "                    cost = node_data[itr]['cost'] + graph[itr][neighbor]\n",
    "                    if cost < node_data[neighbor]['cost']:\n",
    "                        node_data[neighbor]['cost'] = cost\n",
    "                        if node_data[neighbor]['cost'] == inf:\n",
    "                            node_data[neighbor]['pred'] = node_data[itr]['pred'] + list(itr)\n",
    "                        else:\n",
    "                            node_data[neighbor]['pred'].clear()\n",
    "                            node_data[neighbor]['pred'] = node_data[itr]['pred'] + list(itr)\n",
    "        print(node_data)\n",
    "    print('Shortest Distance: ' + str(node_data[dest]['cost']))\n",
    "    print('Shortest Path: ' + str(node_data[dest]['pred'] + list(dest)))"
   ]
  },
  {
   "cell_type": "code",
   "execution_count": 45,
   "id": "1f60a63e",
   "metadata": {},
   "outputs": [],
   "source": [
    "graph = {\n",
    "    'A':{'B': 6, 'C': 4, 'D': 5},\n",
    "    'B':{'E': -1},\n",
    "    'C':{'B': -2, 'E': 3},\n",
    "    'D':{'F': -1, 'C': -2},\n",
    "    'E':{'E': 3},\n",
    "    'F':{}\n",
    "}"
   ]
  },
  {
   "cell_type": "code",
   "execution_count": 46,
   "id": "1923ee6b",
   "metadata": {},
   "outputs": [],
   "source": [
    "source = 'A'\n",
    "destination = 'E'"
   ]
  },
  {
   "cell_type": "code",
   "execution_count": 47,
   "id": "6764c1cb",
   "metadata": {},
   "outputs": [
    {
     "name": "stdout",
     "output_type": "stream",
     "text": [
      "Iteration 0:\n",
      "{'A': {'cost': 0, 'pred': []}, 'B': {'cost': 2, 'pred': ['A', 'C']}, 'C': {'cost': 3, 'pred': ['A', 'D']}, 'D': {'cost': 5, 'pred': ['A']}, 'E': {'cost': 5, 'pred': ['A', 'B']}, 'F': {'cost': 4, 'pred': ['A', 'D']}}\n",
      "Iteration 1:\n",
      "{'A': {'cost': 0, 'pred': []}, 'B': {'cost': 1, 'pred': ['A', 'D', 'C']}, 'C': {'cost': 3, 'pred': ['A', 'D']}, 'D': {'cost': 5, 'pred': ['A']}, 'E': {'cost': 1, 'pred': ['A', 'C', 'B']}, 'F': {'cost': 4, 'pred': ['A', 'D']}}\n",
      "Iteration 2:\n",
      "{'A': {'cost': 0, 'pred': []}, 'B': {'cost': 1, 'pred': ['A', 'D', 'C']}, 'C': {'cost': 3, 'pred': ['A', 'D']}, 'D': {'cost': 5, 'pred': ['A']}, 'E': {'cost': 0, 'pred': ['A', 'D', 'C', 'B']}, 'F': {'cost': 4, 'pred': ['A', 'D']}}\n",
      "Iteration 3:\n",
      "{'A': {'cost': 0, 'pred': []}, 'B': {'cost': 1, 'pred': ['A', 'D', 'C']}, 'C': {'cost': 3, 'pred': ['A', 'D']}, 'D': {'cost': 5, 'pred': ['A']}, 'E': {'cost': 0, 'pred': ['A', 'D', 'C', 'B']}, 'F': {'cost': 4, 'pred': ['A', 'D']}}\n",
      "Iteration 4:\n",
      "{'A': {'cost': 0, 'pred': []}, 'B': {'cost': 1, 'pred': ['A', 'D', 'C']}, 'C': {'cost': 3, 'pred': ['A', 'D']}, 'D': {'cost': 5, 'pred': ['A']}, 'E': {'cost': 0, 'pred': ['A', 'D', 'C', 'B']}, 'F': {'cost': 4, 'pred': ['A', 'D']}}\n",
      "Shortest Distance: 0\n",
      "Shortest Path: ['A', 'D', 'C', 'B', 'E']\n"
     ]
    }
   ],
   "source": [
    "bellmanFord(graph, source, destination)"
   ]
  }
 ],
 "metadata": {
  "kernelspec": {
   "display_name": "Python 3 (ipykernel)",
   "language": "python",
   "name": "python3"
  },
  "language_info": {
   "codemirror_mode": {
    "name": "ipython",
    "version": 3
   },
   "file_extension": ".py",
   "mimetype": "text/x-python",
   "name": "python",
   "nbconvert_exporter": "python",
   "pygments_lexer": "ipython3",
   "version": "3.9.13"
  }
 },
 "nbformat": 4,
 "nbformat_minor": 5
}
