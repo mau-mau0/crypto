{
 "cells": [
  {
   "cell_type": "code",
   "execution_count": 1,
   "id": "2090e1d0",
   "metadata": {},
   "outputs": [],
   "source": [
    "from requests import Session\n",
    "import pandas as pd\n",
    "import time\n",
    "import hashlib\n",
    "import hmac\n",
    "import base64\n",
    "import json"
   ]
  },
  {
   "cell_type": "code",
   "execution_count": 2,
   "id": "bf14cc17",
   "metadata": {},
   "outputs": [],
   "source": [
    "import sys\n",
    "sys.path.append('..')\n",
    "import classified"
   ]
  },
  {
   "cell_type": "code",
   "execution_count": 3,
   "id": "34e9551d",
   "metadata": {},
   "outputs": [
    {
     "ename": "AttributeError",
     "evalue": "module 'classified' has no attribute 'FPASSPHRASE'",
     "output_type": "error",
     "traceback": [
      "\u001b[0;31m---------------------------------------------------------------------------\u001b[0m",
      "\u001b[0;31mAttributeError\u001b[0m                            Traceback (most recent call last)",
      "Input \u001b[0;32mIn [3]\u001b[0m, in \u001b[0;36m<cell line: 2>\u001b[0;34m()\u001b[0m\n\u001b[1;32m      1\u001b[0m \u001b[38;5;66;03m# for future api\u001b[39;00m\n\u001b[0;32m----> 2\u001b[0m fapi_passphrase \u001b[38;5;241m=\u001b[39m \u001b[43mclassified\u001b[49m\u001b[38;5;241;43m.\u001b[39;49m\u001b[43mFPASSPHRASE\u001b[49m\n\u001b[1;32m      3\u001b[0m fapi_key \u001b[38;5;241m=\u001b[39m classified\u001b[38;5;241m.\u001b[39mFKEY\n\u001b[1;32m      4\u001b[0m fapi_secret \u001b[38;5;241m=\u001b[39m classified\u001b[38;5;241m.\u001b[39mFSECRET\n",
      "\u001b[0;31mAttributeError\u001b[0m: module 'classified' has no attribute 'FPASSPHRASE'"
     ]
    }
   ],
   "source": [
    "# for future api\n",
    "fapi_passphrase = classified.FPASSPHRASE\n",
    "fapi_key = classified.FKEY\n",
    "fapi_secret = classified.FSECRET"
   ]
  },
  {
   "cell_type": "code",
   "execution_count": null,
   "id": "d654bbbb",
   "metadata": {},
   "outputs": [],
   "source": [
    "api_passphrase = classified.SPASSPHRASE\n",
    "api_key = classified.SKEY\n",
    "api_secret = classified.SSECRET\n",
    "\n",
    "session = Session()"
   ]
  },
  {
   "cell_type": "code",
   "execution_count": null,
   "id": "2ceaf07d",
   "metadata": {},
   "outputs": [],
   "source": [
    "def auth(method, endpoint):\n",
    "    now = int(time.time() * 1000)\n",
    "    str_to_sign = str(now) + method.upper() + endpoint\n",
    "    signature = base64.b64encode(\n",
    "        hmac.new(api_secret.encode('utf-8'), str_to_sign.encode('utf-8'), hashlib.sha256).digest())\n",
    "    passphrase = base64.b64encode(hmac.new(api_secret.encode('utf-8'), api_passphrase.encode('utf-8'), hashlib.sha256).digest())\n",
    "    headers = {\n",
    "        \"KC-API-SIGN\": signature,\n",
    "        \"KC-API-TIMESTAMP\": str(now),\n",
    "        \"KC-API-KEY\": api_key,\n",
    "        \"KC-API-PASSPHRASE\": passphrase,\n",
    "        \"KC-API-KEY-VERSION\": '2',\n",
    "        \"Content-Type\": \"application/json\"\n",
    "    }\n",
    "    return headers"
   ]
  },
  {
   "cell_type": "markdown",
   "id": "869da706",
   "metadata": {},
   "source": [
    "## Spot Trade"
   ]
  },
  {
   "cell_type": "code",
   "execution_count": 4,
   "id": "23b019c1",
   "metadata": {},
   "outputs": [],
   "source": [
    "class executeTrade:\n",
    "    \n",
    "    def spotOrder(self, side, symbol, price, size):\n",
    "        url = 'https://api.kucoin.com/api/v1/orders'\n",
    "        now = int(time.time() * 1000)\n",
    "        data = {\"clientOid\": \"01\", \"side\": side, \"symbol\": symbol, \"price\": price,\"size\": size}\n",
    "        data_json = json.dumps(data)\n",
    "        str_to_sign = str(now) + 'POST' + '/api/v1/orders' + data_json\n",
    "        signature = base64.b64encode(\n",
    "            hmac.new(api_secret.encode('utf-8'), str_to_sign.encode('utf-8'), hashlib.sha256).digest())\n",
    "        passphrase = base64.b64encode(\n",
    "            hmac.new(api_secret.encode('utf-8'), api_passphrase.encode('utf-8'), hashlib.sha256).digest())\n",
    "        headers = {\n",
    "            \"KC-API-SIGN\": signature,\n",
    "            \"KC-API-TIMESTAMP\": str(now),\n",
    "            \"KC-API-KEY\": api_key,\n",
    "            \"KC-API-PASSPHRASE\": passphrase,\n",
    "            \"KC-API-KEY-VERSION\": '2',\n",
    "            \"Content-Type\": \"application/json\" # specifying content type or using json=data in request\n",
    "        }\n",
    "        response = session.post(url, headers=headers, data=data_json)\n",
    "        print(response.status_code)\n",
    "        print(response.json())\n",
    "        \n",
    "    def futureOrder(self, side, symbol, leverage, price, size):\n",
    "        url = 'https://api-futures.kucoin.com/api/v1/orders'\n",
    "        now = int(time.time() * 1000)\n",
    "        data = {\"clientOid\": \"02\", \"side\": side, \"symbol\": symbol, \"leverage\": leverage, \"price\": price,\"size\": size}\n",
    "        data_json = json.dumps(data)\n",
    "        str_to_sign = str(now) + 'POST' + '/api/v1/orders' + data_json\n",
    "        signature = base64.b64encode(\n",
    "            hmac.new(fapi_secret.encode('utf-8'), str_to_sign.encode('utf-8'), hashlib.sha256).digest())\n",
    "        passphrase = base64.b64encode(\n",
    "            hmac.new(fapi_secret.encode('utf-8'), fapi_passphrase.encode('utf-8'), hashlib.sha256).digest())\n",
    "        headers = {\n",
    "            \"KC-API-SIGN\": signature,\n",
    "            \"KC-API-TIMESTAMP\": str(now),\n",
    "            \"KC-API-KEY\": fapi_key,\n",
    "            \"KC-API-PASSPHRASE\": passphrase,\n",
    "            \"KC-API-KEY-VERSION\": '2',\n",
    "            \"Content-Type\": \"application/json\" # specifying content type or using json=data in request\n",
    "        }\n",
    "        response = session.post(url, headers=headers, data=data_json)\n",
    "        print(response.status_code)\n",
    "        print(response.json())"
   ]
  },
  {
   "cell_type": "code",
   "execution_count": 5,
   "id": "8f8f88d4",
   "metadata": {},
   "outputs": [],
   "source": [
    "trade = executeTrade()"
   ]
  },
  {
   "cell_type": "code",
   "execution_count": 50,
   "id": "c213fc3a",
   "metadata": {},
   "outputs": [
    {
     "name": "stdout",
     "output_type": "stream",
     "text": [
      "200\n",
      "{'code': '200000', 'data': {'orderId': '62b3825d7f527f00016ce126'}}\n"
     ]
    }
   ],
   "source": [
    "trade.spotOrder(\"buy\", \"ETH-USDT\", \"500\", \"0.01\")"
   ]
  },
  {
   "cell_type": "code",
   "execution_count": 52,
   "id": "fe59409c",
   "metadata": {},
   "outputs": [
    {
     "name": "stdout",
     "output_type": "stream",
     "text": [
      "200\n",
      "{'code': '200000', 'data': {'orderId': '62b3827251f56e0001e8b465'}}\n"
     ]
    }
   ],
   "source": [
    "trade.futureOrder(\"buy\", \"ETHUSDTM\", \"1\", \"500\", \"1\")"
   ]
  },
  {
   "cell_type": "code",
   "execution_count": null,
   "id": "8f9fcca1",
   "metadata": {},
   "outputs": [],
   "source": []
  }
 ],
 "metadata": {
  "kernelspec": {
   "display_name": "Python 3 (ipykernel)",
   "language": "python",
   "name": "python3"
  },
  "language_info": {
   "codemirror_mode": {
    "name": "ipython",
    "version": 3
   },
   "file_extension": ".py",
   "mimetype": "text/x-python",
   "name": "python",
   "nbconvert_exporter": "python",
   "pygments_lexer": "ipython3",
   "version": "3.9.13"
  },
  "vscode": {
   "interpreter": {
    "hash": "7a108848b96d74efb06bc87e01e3b7fe5d4bf429ce6d450b3d76ea69470cf524"
   }
  }
 },
 "nbformat": 4,
 "nbformat_minor": 5
}
