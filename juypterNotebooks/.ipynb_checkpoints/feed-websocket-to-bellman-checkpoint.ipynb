{
 "cells": [
  {
   "cell_type": "code",
   "execution_count": 1,
   "id": "1d54e72e",
   "metadata": {},
   "outputs": [],
   "source": [
    "import json\n",
    "import requests\n",
    "import websockets\n",
    "import sys\n",
    "from typing import Tuple, List\n",
    "from math import log\n",
    "inf = sys.maxsize"
   ]
  },
  {
   "cell_type": "markdown",
   "id": "0bb70f94",
   "metadata": {},
   "source": [
    "# Global Variables and Functions"
   ]
  },
  {
   "cell_type": "code",
   "execution_count": 2,
   "id": "ef5ca4d9",
   "metadata": {},
   "outputs": [],
   "source": [
    "# dictionary stored data in a currency: currency exchange rate format\n",
    "rates = [\n",
    "                    {\n",
    "                        \"ETH\": {\"ETH\": 1, \"BTC\": inf,\"XMR\": inf},\n",
    "                        \"BTC\": {\"ETH\": inf,\"BTC\": 1,\"XMR\": inf},\n",
    "                        \"XMR\": {\"ETH\": inf,\"BTC\": inf, \"XMR\": 1}\n",
    "                    }\n",
    "]\n",
    "\n",
    "currencies = (\n",
    "    'ETH', \n",
    "    'BTC', \n",
    "    'XMR'\n",
    ")\n",
    "\n",
    "def negate_logarithm_convertor(graph: Tuple[Tuple[float]]) -> List[List[float]]:\n",
    "    ''' log of each rate in graph and negate it'''\n",
    "    result = [[-log(edge) for edge in row.values()] for row in graph[0].values()]\n",
    "    return result\n",
    "\n",
    "\n",
    "def arbitrage(currency_tuple: tuple, rates_matrix: Tuple[Tuple[float, ...]]):\n",
    "    ''' Calculates arbitrage situations and prints out the details of this calculations'''\n",
    "\n",
    "    trans_graph = negate_logarithm_convertor(rates_matrix)\n",
    "\n",
    "    # Pick any source vertex -- we can run Bellman-Ford from any vertex and get a result\n",
    "\n",
    "    source = 0\n",
    "    n = len(trans_graph)\n",
    "    min_dist = [float('inf')] * n\n",
    "\n",
    "    pre = [-1] * n\n",
    "    \n",
    "    min_dist[source] = source\n",
    "\n",
    "    # Relax edges |V-1| times\n",
    "    for _ in range(n-1):\n",
    "        for source_curr in range(n):\n",
    "            for dest_curr in range(n):\n",
    "                if min_dist[dest_curr] > min_dist[source_curr] + trans_graph[source_curr][dest_curr]:\n",
    "                    min_dist[dest_curr] = min_dist[source_curr] + trans_graph[source_curr][dest_curr]\n",
    "                    pre[dest_curr] = source_curr\n",
    "\n",
    "    # if we can still relax edges, then we have a negative cycle = arbitrage cycle\n",
    "    for source_curr in range(n):\n",
    "        for dest_curr in range(n):\n",
    "            if min_dist[dest_curr] > min_dist[source_curr] + trans_graph[source_curr][dest_curr]:\n",
    "                # negative cycle exists, and use the predecessor chain to print the cycle\n",
    "                print_cycle = [dest_curr, source_curr]\n",
    "                # Start from the source and go backwards until you see the source vertex again or any vertex that already exists in print_cycle array\n",
    "                while pre[source_curr] not in  print_cycle:\n",
    "                    print_cycle.append(pre[source_curr])\n",
    "                    source_curr = pre[source_curr]\n",
    "                print_cycle.append(pre[source_curr])\n",
    "                print(\"Arbitrage Opportunity: \\n\")\n",
    "                print(\" --> \".join([currencies[p] for p in print_cycle[::-1]]))\n",
    "\n",
    "def kelly_criterion(balance: float, expReturn: float, probWin: float, probLose: float):\n",
    "    kelly = probWin - (probLose / expReturn)\n",
    "    optimalStake = round(balance * kelly, 2)\n",
    "    print(f\"Kelly Percentage is: {round(kelly * 100, 2)}%\")\n",
    "    print(f\"Optimal Stake is: ${optimalStake}\")\n",
    "    return kelly\n",
    "\n",
    "def expected_return(oppurtunity):\n",
    "    starting_amount = 1\n",
    "    profit = 1 # sets the value of the starting crypto currency ammount\n",
    "    count = [len(oppurtunity) - 1] # used to avoid out of index range error\n",
    "    print(f\"Starting With {profit} {oppurtunity[0]}(s)\")\n",
    "    \n",
    "    for i in range(len(oppurtunity)): # loops thru each currency\n",
    "        \n",
    "        currRates = rates[0][oppurtunity[i]] # saves the current itration currecny rates\n",
    "        \n",
    "        if i in count: # check if it is the last iteration\n",
    "            \n",
    "            curr = oppurtunity[i]\n",
    "            profit = profit * currRates[curr] # multiply total by 1\n",
    "            \n",
    "        else:\n",
    "            \n",
    "            curr = oppurtunity[i + 1]\n",
    "            profit = profit * currRates[curr] # multiply total by exchange rate\n",
    "            net_profit = profit - starting_amount\n",
    "            \n",
    "    expected_return = (net_profit / profit)\n",
    "            \n",
    "    print(f\"You End Up With {profit} {oppurtunity[0]}(s)\")\n",
    "    print(f\"With A {expected_return}% Return\")\n",
    "    return expected_return\n",
    "\n",
    "def profit_calculator(oppurtunity, investment):\n",
    "    starting_amount = investment\n",
    "    profit = investment # sets the value of the starting crypto currency ammount\n",
    "    count = [len(oppurtunity) - 1] # used to avoid out of index range error\n",
    "    print(f\"Starting With {profit} {oppurtunity[0]}(s)\")\n",
    "    \n",
    "    for i in range(len(oppurtunity)): # loops thru each currency\n",
    "        \n",
    "        currRates = rates[0][oppurtunity[i]] # saves the current itration currecny rates\n",
    "        \n",
    "        if i in count: # check if it is the last iteration\n",
    "            \n",
    "            curr = oppurtunity[i]\n",
    "            profit = profit * currRates[curr] # multiply total by 1\n",
    "            \n",
    "        else:\n",
    "            \n",
    "            curr = oppurtunity[i + 1]\n",
    "            profit = profit * currRates[curr] # multiply total by exchange rate\n",
    "            \n",
    "    print(f\"You End Up With {profit} {oppurtunity[0]}(s)\")\n",
    "    return profit"
   ]
  },
  {
   "cell_type": "markdown",
   "id": "323318c7",
   "metadata": {},
   "source": [
    "# Apply public connect token"
   ]
  },
  {
   "cell_type": "code",
   "execution_count": 3,
   "id": "355eeb06",
   "metadata": {},
   "outputs": [],
   "source": [
    "url = 'https://api.kucoin.com/api/v1/bullet-public'"
   ]
  },
  {
   "cell_type": "code",
   "execution_count": 4,
   "id": "486a8581",
   "metadata": {},
   "outputs": [],
   "source": [
    "x = requests.post(url)"
   ]
  },
  {
   "cell_type": "code",
   "execution_count": 5,
   "id": "556ac8b5",
   "metadata": {},
   "outputs": [],
   "source": [
    "cjson = json.loads(x.text)"
   ]
  },
  {
   "cell_type": "code",
   "execution_count": 6,
   "id": "d44c9608",
   "metadata": {},
   "outputs": [],
   "source": [
    "endpoint = cjson['data']['instanceServers'][0]['endpoint']\n",
    "token = cjson['data']['token']"
   ]
  },
  {
   "cell_type": "markdown",
   "id": "f5773708",
   "metadata": {},
   "source": [
    "# Multiplex Websocket Connection"
   ]
  },
  {
   "cell_type": "code",
   "execution_count": 7,
   "id": "aa53afb3",
   "metadata": {},
   "outputs": [],
   "source": [
    "multi = {\"id\": \"1Jpg30DEdU\", \"type\": \"openTunnel\", \"newTunnelId\": \"bt1\", \"response\": False}\n",
    "# command used to open tunnel"
   ]
  },
  {
   "cell_type": "code",
   "execution_count": 8,
   "id": "201e84e2",
   "metadata": {},
   "outputs": [],
   "source": [
    "multi_ETHBTC = {\"id\": \"1JpoPamgFM\",\n",
    "             \"type\": \"subscribe\",\n",
    "             \"topic\": \"/market/ticker:ETH-BTC\",\n",
    "             \"tunnelId\": \"bt1\", \"response\": False}\n",
    "# subscriptions to websocket with tunnelID attached"
   ]
  },
  {
   "cell_type": "code",
   "execution_count": 9,
   "id": "093261dc",
   "metadata": {},
   "outputs": [],
   "source": [
    "multi_XMRBTC = {\"id\": \"1JpoPamgFM\",\n",
    "             \"type\": \"subscribe\",\n",
    "             \"topic\": \"/market/ticker:XMR-BTC\",\n",
    "             \"tunnelId\": \"bt1\", \"response\": False}\n",
    "# subscriptions to websocket with tunnelID attached"
   ]
  },
  {
   "cell_type": "code",
   "execution_count": 10,
   "id": "75e9492f",
   "metadata": {},
   "outputs": [],
   "source": [
    "multi_XMRETH = {\"id\": \"1JpoPamgFM\",\n",
    "             \"type\": \"subscribe\",\n",
    "             \"topic\": \"/market/ticker:XMR-ETH\",\n",
    "             \"tunnelId\": \"bt1\", \"response\": False}\n",
    "# subscriptions to websocket with tunnelID attached"
   ]
  },
  {
   "cell_type": "code",
   "execution_count": 11,
   "id": "7e4f4357",
   "metadata": {},
   "outputs": [
    {
     "name": "stdout",
     "output_type": "stream",
     "text": [
      "Arbitrage Opportunity: \n",
      "\n",
      "BTC --> ETH --> BTC\n",
      "Arbitrage Opportunity: \n",
      "\n",
      "XMR --> BTC --> ETH --> XMR\n",
      "Arbitrage Opportunity: \n",
      "\n",
      "ETH --> XMR --> BTC --> ETH\n",
      "Arbitrage Opportunity: \n",
      "\n",
      "BTC --> ETH --> BTC\n",
      "Arbitrage Opportunity: \n",
      "\n",
      "ETH --> BTC --> ETH --> XMR\n",
      "Arbitrage Opportunity: \n",
      "\n",
      "BTC --> ETH --> BTC\n",
      "Arbitrage Opportunity: \n",
      "\n",
      "ETH --> BTC --> ETH --> XMR\n",
      "Arbitrage Opportunity: \n",
      "\n",
      "BTC --> XMR --> ETH --> BTC\n",
      "Arbitrage Opportunity: \n",
      "\n",
      "BTC --> XMR --> ETH --> BTC\n",
      "Arbitrage Opportunity: \n",
      "\n",
      "BTC --> XMR --> ETH --> BTC\n",
      "Arbitrage Opportunity: \n",
      "\n",
      "BTC --> XMR --> ETH --> BTC\n",
      "Arbitrage Opportunity: \n",
      "\n",
      "BTC --> XMR --> ETH --> BTC\n",
      "Arbitrage Opportunity: \n",
      "\n",
      "BTC --> XMR --> ETH --> BTC\n",
      "Arbitrage Opportunity: \n",
      "\n",
      "BTC --> XMR --> ETH --> BTC\n"
     ]
    }
   ],
   "source": [
    "async with websockets.connect(endpoint+\"?token=\"+token) as conn:\n",
    "    await conn.send(json.dumps(multi))  # initial open tunel command\n",
    "    res = await conn.recv()\n",
    "    \n",
    "    await conn.send(json.dumps(multi_ETHBTC)) # send tunnel subscription\n",
    "    res = await conn.recv()\n",
    "    await conn.send(json.dumps(multi_XMRBTC))  # send tunnel subscription\n",
    "    res = await conn.recv()\n",
    "    await conn.send(json.dumps(multi_XMRETH))  # send tunnel subscription\n",
    "    res = await conn.recv()\n",
    "    \n",
    "    counter = 0\n",
    "    spotPrice = 0\n",
    "    futurePrice = 0\n",
    "    while True and counter < 10:\n",
    "        \n",
    "        res = await conn.recv()\n",
    "        vals = json.loads(res)\n",
    "\n",
    "        if (vals['topic']) == '/market/ticker:ETH-BTC':\n",
    "            rates[0]['ETH']['BTC'] = 1 / float(vals['data']['bestAsk']) # takes the inverse of the exchange rate to get the reverse\n",
    "            rates[0]['BTC']['ETH'] = float(vals['data']['bestAsk']) # saves the exchanges exchange rate to designated variable\n",
    "\n",
    "        elif (vals['topic']) == '/market/ticker:XMR-ETH':\n",
    "            rates[0]['XMR']['ETH'] = 1 / float(vals['data']['bestAsk'])\n",
    "            rates[0]['ETH']['XMR'] = float(vals['data']['bestAsk'])\n",
    "        \n",
    "        elif (vals['topic']) == '/market/ticker:XMR-BTC':\n",
    "            rates[0]['XMR']['BTC'] = 1 / float(vals['data']['bestAsk'])\n",
    "            rates[0]['BTC']['XMR'] = float(vals['data']['bestAsk'])\n",
    "        \n",
    "        \n",
    "        if __name__ == \"__main__\":\n",
    "            arbitrage(currencies, rates)\n",
    "        counter += 1\n",
    "    eth_tunnel = {\"id\": \"1JpoPamgFM\", \"type\": \"closeTunnel\", \"tunnelId\": \"bt1\", \"response\": False}            \n",
    "    btc_tunnel = {\"id\": \"1JpoPamgFN\", \"type\": \"closeTunnel\", \"tunnelId\": \"bt1\", \"response\": False}\n",
    "    await conn.send(json.dumps(eth_tunnel))\n",
    "    await conn.send(json.dumps(btc_tunnel))\n",
    "    await conn.close()"
   ]
  },
  {
   "cell_type": "code",
   "execution_count": 13,
   "id": "62008901",
   "metadata": {},
   "outputs": [
    {
     "name": "stdout",
     "output_type": "stream",
     "text": [
      "Starting With 1 BTC(s)\n",
      "You End Up With 1.0007094733122353 BTC(s)\n",
      "With A 0.0007089703167163764% Return\n"
     ]
    },
    {
     "data": {
      "text/plain": [
       "0.0007089703167163764"
      ]
     },
     "execution_count": 13,
     "metadata": {},
     "output_type": "execute_result"
    }
   ],
   "source": [
    "expected_return(['BTC', 'XMR', 'ETH', 'BTC'])"
   ]
  },
  {
   "cell_type": "code",
   "execution_count": 15,
   "id": "855c829c",
   "metadata": {},
   "outputs": [
    {
     "name": "stdout",
     "output_type": "stream",
     "text": [
      "Starting With 100 BTC(s)\n",
      "You End Up With 100.07094733122352 BTC(s)\n"
     ]
    },
    {
     "data": {
      "text/plain": [
       "100.07094733122352"
      ]
     },
     "execution_count": 15,
     "metadata": {},
     "output_type": "execute_result"
    }
   ],
   "source": [
    "profit_calculator(['BTC', 'XMR', 'ETH', 'BTC'], 100)"
   ]
  },
  {
   "cell_type": "code",
   "execution_count": 16,
   "id": "eb84bef4",
   "metadata": {},
   "outputs": [
    {
     "name": "stdout",
     "output_type": "stream",
     "text": [
      "Kelly Percentage is: 48.85%\n",
      "Optimal Stake is: $9770.3\n"
     ]
    },
    {
     "data": {
      "text/plain": [
       "0.4885148514851485"
      ]
     },
     "execution_count": 16,
     "metadata": {},
     "output_type": "execute_result"
    }
   ],
   "source": [
    "kelly_criterion(20000, 4.04,0.59,0.41)"
   ]
  },
  {
   "cell_type": "code",
   "execution_count": 17,
   "id": "b2aadf9f",
   "metadata": {},
   "outputs": [
    {
     "name": "stdout",
     "output_type": "stream",
     "text": [
      "Kelly Percentage is: 46.18%\n",
      "Optimal Stake is: $461795.65\n"
     ]
    },
    {
     "data": {
      "text/plain": [
       "0.4617956507021473"
      ]
     },
     "execution_count": 17,
     "metadata": {},
     "output_type": "execute_result"
    }
   ],
   "source": [
    "kelly_criterion(1000000, 0.31980194294926867 * 10, 0.59, 0.41)"
   ]
  },
  {
   "cell_type": "code",
   "execution_count": 22,
   "id": "058bcaf3",
   "metadata": {},
   "outputs": [],
   "source": [
    "# simple simulation account\n",
    "class portfolio:\n",
    "    \n",
    "    # set the balance of the portfolio\n",
    "    def __init__(self, starting_balance):\n",
    "        self.balance = starting_balance\n",
    "    \n",
    "    # add funds to the account\n",
    "    def fund(self, funding_amount):\n",
    "        self.balance += funding_amount\n",
    "    \n",
    "    # withdraw funds from the account\n",
    "    def withdraw(self, withdrawlamount):\n",
    "        self.balance -= withdrawlamount\n",
    "     \n",
    "    # execute arbitrage stratedgy on the acccount using kelly criterion stake\n",
    "    def arbitrage_with_kelly_stake(self):\n",
    "        kelly = kelly_criterion(self.balance, expected_return(['BTC', 'XMR', 'ETH', 'BTC']) * 10, 0.59, 0.41)\n",
    "        stake = self.balance * kelly\n",
    "        self.balance -= stake\n",
    "        profit = profit_calculator(['BTC', 'XMR', 'ETH', 'BTC'], stake)\n",
    "        self.balance += profit\n",
    "        \n",
    "    \n",
    "    # execute arbitrage stratedgt using a custom stake\n",
    "    def arbitrage_with_custom_stake(self, stake_amount):\n",
    "        self.balance -= stake_amount\n",
    "        profit = profit_calculator(['BTC', 'XMR', 'ETH', 'BTC'], stake_amount)\n",
    "        self.balance += profit"
   ]
  },
  {
   "cell_type": "code",
   "execution_count": 23,
   "id": "5852746a",
   "metadata": {},
   "outputs": [],
   "source": [
    "myPortfolio = portfolio(1000000)"
   ]
  },
  {
   "cell_type": "code",
   "execution_count": 24,
   "id": "0c4cd95a",
   "metadata": {},
   "outputs": [
    {
     "data": {
      "text/plain": [
       "1000000"
      ]
     },
     "execution_count": 24,
     "metadata": {},
     "output_type": "execute_result"
    }
   ],
   "source": [
    "# assuming your balance is all one cryptocurrency\n",
    "myPortfolio.balance"
   ]
  },
  {
   "cell_type": "code",
   "execution_count": 25,
   "id": "17ce4963",
   "metadata": {},
   "outputs": [
    {
     "name": "stdout",
     "output_type": "stream",
     "text": [
      "Starting With 1 BTC(s)\n",
      "You End Up With 1.0007094733122353 BTC(s)\n",
      "With A 0.0007089703167163764% Return\n",
      "Kelly Percentage is: -5724.03%\n",
      "Optimal Stake is: $-57240347.81\n",
      "Starting With -57240347.80622847 BTC(s)\n",
      "You End Up With -57280958.30538005 BTC(s)\n"
     ]
    }
   ],
   "source": [
    "myPortfolio.arbitrage_with_kelly_stake()"
   ]
  },
  {
   "cell_type": "code",
   "execution_count": 26,
   "id": "1e4709fc",
   "metadata": {},
   "outputs": [
    {
     "data": {
      "text/plain": [
       "959389.50084842"
      ]
     },
     "execution_count": 26,
     "metadata": {},
     "output_type": "execute_result"
    }
   ],
   "source": [
    "myPortfolio.balance"
   ]
  },
  {
   "cell_type": "code",
   "execution_count": null,
   "id": "abb2f75a",
   "metadata": {},
   "outputs": [],
   "source": []
  }
 ],
 "metadata": {
  "kernelspec": {
   "display_name": "Python 3 (ipykernel)",
   "language": "python",
   "name": "python3"
  },
  "language_info": {
   "codemirror_mode": {
    "name": "ipython",
    "version": 3
   },
   "file_extension": ".py",
   "mimetype": "text/x-python",
   "name": "python",
   "nbconvert_exporter": "python",
   "pygments_lexer": "ipython3",
   "version": "3.9.13"
  }
 },
 "nbformat": 4,
 "nbformat_minor": 5
}
